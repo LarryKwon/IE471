{
 "cells": [
  {
   "cell_type": "code",
   "execution_count": 1,
   "metadata": {},
   "outputs": [
    {
     "name": "stdout",
     "output_type": "stream",
     "text": [
      "env: PYTORCH_ENABLE_MPS_FALLBACK=1\n"
     ]
    }
   ],
   "source": [
    "%env PYTORCH_ENABLE_MPS_FALLBACK=1\n",
    "## GPU 없으면 CPU로 돌아가게끔 설정"
   ]
  },
  {
   "cell_type": "code",
   "execution_count": 6,
   "metadata": {},
   "outputs": [
    {
     "name": "stdout",
     "output_type": "stream",
     "text": [
      "Requirement already satisfied: gluonts[torch] in /opt/homebrew/Caskroom/miniconda/base/envs/ie471/lib/python3.8/site-packages (0.15.1)\n",
      "Requirement already satisfied: numpy~=1.16 in /opt/homebrew/Caskroom/miniconda/base/envs/ie471/lib/python3.8/site-packages (from gluonts[torch]) (1.24.3)\n",
      "Requirement already satisfied: pandas<3,>=1.0 in /opt/homebrew/Caskroom/miniconda/base/envs/ie471/lib/python3.8/site-packages (from gluonts[torch]) (2.0.3)\n",
      "Requirement already satisfied: pydantic<3,>=1.7 in /opt/homebrew/Caskroom/miniconda/base/envs/ie471/lib/python3.8/site-packages (from gluonts[torch]) (2.7.3)\n",
      "Requirement already satisfied: tqdm~=4.23 in /opt/homebrew/Caskroom/miniconda/base/envs/ie471/lib/python3.8/site-packages (from gluonts[torch]) (4.65.0)\n",
      "Requirement already satisfied: toolz~=0.10 in /opt/homebrew/Caskroom/miniconda/base/envs/ie471/lib/python3.8/site-packages (from gluonts[torch]) (0.12.1)\n",
      "Requirement already satisfied: typing-extensions~=4.0 in /opt/homebrew/Caskroom/miniconda/base/envs/ie471/lib/python3.8/site-packages (from gluonts[torch]) (4.9.0)\n",
      "Requirement already satisfied: torch<3,>=1.9 in /opt/homebrew/Caskroom/miniconda/base/envs/ie471/lib/python3.8/site-packages (from gluonts[torch]) (2.2.0.post100)\n",
      "Collecting lightning<2.2,>=2.0 (from gluonts[torch])\n",
      "  Using cached lightning-2.1.4-py3-none-any.whl.metadata (57 kB)\n",
      "Collecting pytorch-lightning<2.2,>=2.0 (from gluonts[torch])\n",
      "  Using cached pytorch_lightning-2.1.4-py3-none-any.whl.metadata (21 kB)\n",
      "Requirement already satisfied: scipy~=1.10 in /opt/homebrew/Caskroom/miniconda/base/envs/ie471/lib/python3.8/site-packages (from gluonts[torch]) (1.10.1)\n",
      "Requirement already satisfied: PyYAML<8.0,>=5.4 in /opt/homebrew/Caskroom/miniconda/base/envs/ie471/lib/python3.8/site-packages (from lightning<2.2,>=2.0->gluonts[torch]) (6.0.1)\n",
      "Requirement already satisfied: fsspec<2025.0,>=2022.5.0 in /opt/homebrew/Caskroom/miniconda/base/envs/ie471/lib/python3.8/site-packages (from fsspec[http]<2025.0,>=2022.5.0->lightning<2.2,>=2.0->gluonts[torch]) (2023.10.0)\n",
      "Requirement already satisfied: lightning-utilities<2.0,>=0.8.0 in /opt/homebrew/Caskroom/miniconda/base/envs/ie471/lib/python3.8/site-packages (from lightning<2.2,>=2.0->gluonts[torch]) (0.11.2)\n",
      "Requirement already satisfied: packaging<25.0,>=20.0 in /opt/homebrew/Caskroom/miniconda/base/envs/ie471/lib/python3.8/site-packages (from lightning<2.2,>=2.0->gluonts[torch]) (23.1)\n",
      "Requirement already satisfied: torchmetrics<3.0,>=0.7.0 in /opt/homebrew/Caskroom/miniconda/base/envs/ie471/lib/python3.8/site-packages (from lightning<2.2,>=2.0->gluonts[torch]) (1.4.0.post0)\n",
      "Requirement already satisfied: python-dateutil>=2.8.2 in /opt/homebrew/Caskroom/miniconda/base/envs/ie471/lib/python3.8/site-packages (from pandas<3,>=1.0->gluonts[torch]) (2.8.2)\n",
      "Requirement already satisfied: pytz>=2020.1 in /opt/homebrew/Caskroom/miniconda/base/envs/ie471/lib/python3.8/site-packages (from pandas<3,>=1.0->gluonts[torch]) (2023.3.post1)\n",
      "Requirement already satisfied: tzdata>=2022.1 in /opt/homebrew/Caskroom/miniconda/base/envs/ie471/lib/python3.8/site-packages (from pandas<3,>=1.0->gluonts[torch]) (2023.3)\n",
      "Requirement already satisfied: annotated-types>=0.4.0 in /opt/homebrew/Caskroom/miniconda/base/envs/ie471/lib/python3.8/site-packages (from pydantic<3,>=1.7->gluonts[torch]) (0.7.0)\n",
      "Requirement already satisfied: pydantic-core==2.18.4 in /opt/homebrew/Caskroom/miniconda/base/envs/ie471/lib/python3.8/site-packages (from pydantic<3,>=1.7->gluonts[torch]) (2.18.4)\n",
      "Requirement already satisfied: filelock in /opt/homebrew/Caskroom/miniconda/base/envs/ie471/lib/python3.8/site-packages (from torch<3,>=1.9->gluonts[torch]) (3.13.1)\n",
      "Requirement already satisfied: sympy in /opt/homebrew/Caskroom/miniconda/base/envs/ie471/lib/python3.8/site-packages (from torch<3,>=1.9->gluonts[torch]) (1.12)\n",
      "Requirement already satisfied: networkx in /opt/homebrew/Caskroom/miniconda/base/envs/ie471/lib/python3.8/site-packages (from torch<3,>=1.9->gluonts[torch]) (3.1)\n",
      "Requirement already satisfied: jinja2 in /opt/homebrew/Caskroom/miniconda/base/envs/ie471/lib/python3.8/site-packages (from torch<3,>=1.9->gluonts[torch]) (3.1.3)\n",
      "Requirement already satisfied: requests in /opt/homebrew/Caskroom/miniconda/base/envs/ie471/lib/python3.8/site-packages (from fsspec[http]<2025.0,>=2022.5.0->lightning<2.2,>=2.0->gluonts[torch]) (2.31.0)\n",
      "Collecting aiohttp!=4.0.0a0,!=4.0.0a1 (from fsspec[http]<2025.0,>=2022.5.0->lightning<2.2,>=2.0->gluonts[torch])\n",
      "  Downloading aiohttp-3.9.5-cp38-cp38-macosx_11_0_arm64.whl.metadata (7.5 kB)\n",
      "Requirement already satisfied: setuptools in /opt/homebrew/Caskroom/miniconda/base/envs/ie471/lib/python3.8/site-packages (from lightning-utilities<2.0,>=0.8.0->lightning<2.2,>=2.0->gluonts[torch]) (68.2.2)\n",
      "Requirement already satisfied: six>=1.5 in /opt/homebrew/Caskroom/miniconda/base/envs/ie471/lib/python3.8/site-packages (from python-dateutil>=2.8.2->pandas<3,>=1.0->gluonts[torch]) (1.16.0)\n",
      "Requirement already satisfied: MarkupSafe>=2.0 in /opt/homebrew/Caskroom/miniconda/base/envs/ie471/lib/python3.8/site-packages (from jinja2->torch<3,>=1.9->gluonts[torch]) (2.1.3)\n",
      "Requirement already satisfied: mpmath>=0.19 in /opt/homebrew/Caskroom/miniconda/base/envs/ie471/lib/python3.8/site-packages (from sympy->torch<3,>=1.9->gluonts[torch]) (1.3.0)\n",
      "Collecting aiosignal>=1.1.2 (from aiohttp!=4.0.0a0,!=4.0.0a1->fsspec[http]<2025.0,>=2022.5.0->lightning<2.2,>=2.0->gluonts[torch])\n",
      "  Using cached aiosignal-1.3.1-py3-none-any.whl.metadata (4.0 kB)\n",
      "Requirement already satisfied: attrs>=17.3.0 in /opt/homebrew/Caskroom/miniconda/base/envs/ie471/lib/python3.8/site-packages (from aiohttp!=4.0.0a0,!=4.0.0a1->fsspec[http]<2025.0,>=2022.5.0->lightning<2.2,>=2.0->gluonts[torch]) (23.1.0)\n",
      "Collecting frozenlist>=1.1.1 (from aiohttp!=4.0.0a0,!=4.0.0a1->fsspec[http]<2025.0,>=2022.5.0->lightning<2.2,>=2.0->gluonts[torch])\n",
      "  Downloading frozenlist-1.4.1-cp38-cp38-macosx_11_0_arm64.whl.metadata (12 kB)\n",
      "Collecting multidict<7.0,>=4.5 (from aiohttp!=4.0.0a0,!=4.0.0a1->fsspec[http]<2025.0,>=2022.5.0->lightning<2.2,>=2.0->gluonts[torch])\n",
      "  Downloading multidict-6.0.5-cp38-cp38-macosx_11_0_arm64.whl.metadata (4.2 kB)\n",
      "Collecting yarl<2.0,>=1.0 (from aiohttp!=4.0.0a0,!=4.0.0a1->fsspec[http]<2025.0,>=2022.5.0->lightning<2.2,>=2.0->gluonts[torch])\n",
      "  Downloading yarl-1.9.4-cp38-cp38-macosx_11_0_arm64.whl.metadata (31 kB)\n",
      "Collecting async-timeout<5.0,>=4.0 (from aiohttp!=4.0.0a0,!=4.0.0a1->fsspec[http]<2025.0,>=2022.5.0->lightning<2.2,>=2.0->gluonts[torch])\n",
      "  Downloading async_timeout-4.0.3-py3-none-any.whl.metadata (4.2 kB)\n",
      "Requirement already satisfied: charset-normalizer<4,>=2 in /opt/homebrew/Caskroom/miniconda/base/envs/ie471/lib/python3.8/site-packages (from requests->fsspec[http]<2025.0,>=2022.5.0->lightning<2.2,>=2.0->gluonts[torch]) (2.0.4)\n",
      "Requirement already satisfied: idna<4,>=2.5 in /opt/homebrew/Caskroom/miniconda/base/envs/ie471/lib/python3.8/site-packages (from requests->fsspec[http]<2025.0,>=2022.5.0->lightning<2.2,>=2.0->gluonts[torch]) (3.4)\n",
      "Requirement already satisfied: urllib3<3,>=1.21.1 in /opt/homebrew/Caskroom/miniconda/base/envs/ie471/lib/python3.8/site-packages (from requests->fsspec[http]<2025.0,>=2022.5.0->lightning<2.2,>=2.0->gluonts[torch]) (2.1.0)\n",
      "Requirement already satisfied: certifi>=2017.4.17 in /opt/homebrew/Caskroom/miniconda/base/envs/ie471/lib/python3.8/site-packages (from requests->fsspec[http]<2025.0,>=2022.5.0->lightning<2.2,>=2.0->gluonts[torch]) (2024.2.2)\n",
      "Using cached lightning-2.1.4-py3-none-any.whl (2.0 MB)\n",
      "Using cached pytorch_lightning-2.1.4-py3-none-any.whl (778 kB)\n",
      "Downloading aiohttp-3.9.5-cp38-cp38-macosx_11_0_arm64.whl (391 kB)\n",
      "\u001b[2K   \u001b[90m━━━━━━━━━━━━━━━━━━━━━━━━━━━━━━━━━━━━━━━━\u001b[0m \u001b[32m391.9/391.9 kB\u001b[0m \u001b[31m7.8 MB/s\u001b[0m eta \u001b[36m0:00:00\u001b[0ma \u001b[36m0:00:01\u001b[0m\n",
      "\u001b[?25hUsing cached aiosignal-1.3.1-py3-none-any.whl (7.6 kB)\n",
      "Downloading async_timeout-4.0.3-py3-none-any.whl (5.7 kB)\n",
      "Downloading frozenlist-1.4.1-cp38-cp38-macosx_11_0_arm64.whl (53 kB)\n",
      "\u001b[2K   \u001b[90m━━━━━━━━━━━━━━━━━━━━━━━━━━━━━━━━━━━━━━━━\u001b[0m \u001b[32m53.8/53.8 kB\u001b[0m \u001b[31m3.3 MB/s\u001b[0m eta \u001b[36m0:00:00\u001b[0m\n",
      "\u001b[?25hDownloading multidict-6.0.5-cp38-cp38-macosx_11_0_arm64.whl (30 kB)\n",
      "Downloading yarl-1.9.4-cp38-cp38-macosx_11_0_arm64.whl (82 kB)\n",
      "\u001b[2K   \u001b[90m━━━━━━━━━━━━━━━━━━━━━━━━━━━━━━━━━━━━━━━━\u001b[0m \u001b[32m82.0/82.0 kB\u001b[0m \u001b[31m6.5 MB/s\u001b[0m eta \u001b[36m0:00:00\u001b[0m\n",
      "\u001b[?25hInstalling collected packages: multidict, frozenlist, async-timeout, yarl, aiosignal, aiohttp, pytorch-lightning, lightning\n",
      "  Attempting uninstall: pytorch-lightning\n",
      "    Found existing installation: pytorch-lightning 2.2.2\n",
      "    Uninstalling pytorch-lightning-2.2.2:\n",
      "      Successfully uninstalled pytorch-lightning-2.2.2\n",
      "Successfully installed aiohttp-3.9.5 aiosignal-1.3.1 async-timeout-4.0.3 frozenlist-1.4.1 lightning-2.1.4 multidict-6.0.5 pytorch-lightning-2.1.4 yarl-1.9.4\n",
      "Note: you may need to restart the kernel to use updated packages.\n"
     ]
    }
   ],
   "source": [
    "pip install \"gluonts[torch]\""
   ]
  },
  {
   "cell_type": "code",
   "execution_count": 7,
   "metadata": {},
   "outputs": [],
   "source": [
    "import pandas as pd\n",
    "import matplotlib.pyplot as plt\n",
    "\n",
    "from gluonts.dataset.pandas import PandasDataset\n",
    "from gluonts.dataset.split import split\n",
    "from gluonts.torch import DeepAREstimator, DLinearEstimator, TemporalFusionTransformerEstimator\n",
    "\n",
    "TARGET_COLUMN = 'S&P 500 Financials.csv_Open'\n",
    "DATASET_PATH = 'data/merged/merged_S&P 500 Financials.csv'"
   ]
  },
  {
   "cell_type": "code",
   "execution_count": 14,
   "metadata": {},
   "outputs": [
    {
     "name": "stderr",
     "output_type": "stream",
     "text": [
      "/var/folders/9d/xf5zmlhd1ssbgpgvdsc55t940000gn/T/ipykernel_99451/648301607.py:15: FutureWarning: DataFrame.interpolate with object dtype is deprecated and will raise in a future version. Call obj.infer_objects(copy=False) before interpolating instead.\n",
      "  df = df.interpolate(method='linear')\n"
     ]
    }
   ],
   "source": [
    "# Load data from a CSV file into a PandasDataset\n",
    "df = pd.read_csv(\n",
    "    DATASET_PATH,\n",
    "    index_col=0,\n",
    "    parse_dates=True,\n",
    ")\n",
    "\n",
    "# 중복 데이터 제거\n",
    "duplicate_rows = df[df.duplicated(keep=False)]\n",
    "df = df.drop_duplicates().drop(columns=['bitcoin_time'])\n",
    "\n",
    "# 모든 날짜가 균일하게 분포되도록 interpolate 진행 \n",
    "all_times = pd.date_range(start=df.index.min(), end=df.index.max(), freq='D')\n",
    "df = df.reindex(all_times)\n",
    "df = df.interpolate(method='linear')\n",
    "\n",
    "df.to_csv(f'data/processed/{DATASET_PATH.split(\"/\")[-1]}')\n"
   ]
  },
  {
   "cell_type": "code",
   "execution_count": 18,
   "metadata": {},
   "outputs": [],
   "source": [
    "\n",
    "dataset = PandasDataset(df, freq='D',target=TARGET_COLUMN)\n",
    "\n",
    "# 22 년도 기준으로 데이터 분할, training dataset\n",
    "training_data, test_gen = split(dataset,date=pd.Period('2023-01-01'))\n",
    "test_data = test_gen.generate_instances(prediction_length=200, windows=20)\n"
   ]
  },
  {
   "cell_type": "code",
   "execution_count": 19,
   "metadata": {},
   "outputs": [
    {
     "name": "stderr",
     "output_type": "stream",
     "text": [
      "GPU available: True (mps), used: True\n",
      "TPU available: False, using: 0 TPU cores\n",
      "IPU available: False, using: 0 IPUs\n",
      "HPU available: False, using: 0 HPUs\n",
      "/Users/namjihyeon/.pyenv/versions/3.10.13/lib/python3.10/site-packages/lightning/pytorch/trainer/configuration_validator.py:74: You defined a `validation_step` but have no `val_dataloader`. Skipping val loop.\n",
      "\n",
      "  | Name  | Type                           | Params | In sizes                                                                           | Out sizes                     \n",
      "-------------------------------------------------------------------------------------------------------------------------------------------------------------------------------\n",
      "0 | model | TemporalFusionTransformerModel | 109 K  | [[1, 20], [1, 20], [1, 1], [1, 1], [1, 40, 3], [1, 40, 0], [1, 20, 0], [1, 20, 0]] | [[[1, 20, 9]], [1, 1], [1, 1]]\n",
      "-------------------------------------------------------------------------------------------------------------------------------------------------------------------------------\n",
      "109 K     Trainable params\n",
      "0         Non-trainable params\n",
      "109 K     Total params\n",
      "0.439     Total estimated model params size (MB)\n"
     ]
    },
    {
     "name": "stdout",
     "output_type": "stream",
     "text": [
      "Epoch 0: |          | 50/? [00:05<00:00,  9.45it/s, v_num=56, train_loss=0.906]"
     ]
    },
    {
     "name": "stderr",
     "output_type": "stream",
     "text": [
      "Epoch 0, global step 50: 'train_loss' reached 0.90596 (best 0.90596), saving model to '/Users/namjihyeon/IE471/lightning_logs/version_56/checkpoints/epoch=0-step=50.ckpt' as top 1\n"
     ]
    },
    {
     "name": "stdout",
     "output_type": "stream",
     "text": [
      "Epoch 1: |          | 50/? [00:05<00:00,  9.38it/s, v_num=56, train_loss=0.764]"
     ]
    },
    {
     "name": "stderr",
     "output_type": "stream",
     "text": [
      "Epoch 1, global step 100: 'train_loss' reached 0.76434 (best 0.76434), saving model to '/Users/namjihyeon/IE471/lightning_logs/version_56/checkpoints/epoch=1-step=100.ckpt' as top 1\n"
     ]
    },
    {
     "name": "stdout",
     "output_type": "stream",
     "text": [
      "Epoch 2: |          | 50/? [00:05<00:00,  8.63it/s, v_num=56, train_loss=0.713]"
     ]
    },
    {
     "name": "stderr",
     "output_type": "stream",
     "text": [
      "Epoch 2, global step 150: 'train_loss' reached 0.71250 (best 0.71250), saving model to '/Users/namjihyeon/IE471/lightning_logs/version_56/checkpoints/epoch=2-step=150.ckpt' as top 1\n"
     ]
    },
    {
     "name": "stdout",
     "output_type": "stream",
     "text": [
      "Epoch 3: |          | 50/? [00:05<00:00,  8.94it/s, v_num=56, train_loss=0.714]"
     ]
    },
    {
     "name": "stderr",
     "output_type": "stream",
     "text": [
      "Epoch 3, global step 200: 'train_loss' was not in top 1\n"
     ]
    },
    {
     "name": "stdout",
     "output_type": "stream",
     "text": [
      "Epoch 4: |          | 50/? [00:06<00:00,  8.24it/s, v_num=56, train_loss=0.678]"
     ]
    },
    {
     "name": "stderr",
     "output_type": "stream",
     "text": [
      "Epoch 4, global step 250: 'train_loss' reached 0.67763 (best 0.67763), saving model to '/Users/namjihyeon/IE471/lightning_logs/version_56/checkpoints/epoch=4-step=250.ckpt' as top 1\n"
     ]
    },
    {
     "name": "stdout",
     "output_type": "stream",
     "text": [
      "Epoch 5: |          | 50/? [00:05<00:00,  9.14it/s, v_num=56, train_loss=0.665]"
     ]
    },
    {
     "name": "stderr",
     "output_type": "stream",
     "text": [
      "Epoch 5, global step 300: 'train_loss' reached 0.66451 (best 0.66451), saving model to '/Users/namjihyeon/IE471/lightning_logs/version_56/checkpoints/epoch=5-step=300.ckpt' as top 1\n"
     ]
    },
    {
     "name": "stdout",
     "output_type": "stream",
     "text": [
      "Epoch 6: |          | 50/? [00:05<00:00,  8.57it/s, v_num=56, train_loss=0.661]"
     ]
    },
    {
     "name": "stderr",
     "output_type": "stream",
     "text": [
      "Epoch 6, global step 350: 'train_loss' reached 0.66102 (best 0.66102), saving model to '/Users/namjihyeon/IE471/lightning_logs/version_56/checkpoints/epoch=6-step=350.ckpt' as top 1\n"
     ]
    },
    {
     "name": "stdout",
     "output_type": "stream",
     "text": [
      "Epoch 7: |          | 50/? [00:06<00:00,  8.20it/s, v_num=56, train_loss=0.638]"
     ]
    },
    {
     "name": "stderr",
     "output_type": "stream",
     "text": [
      "Epoch 7, global step 400: 'train_loss' reached 0.63768 (best 0.63768), saving model to '/Users/namjihyeon/IE471/lightning_logs/version_56/checkpoints/epoch=7-step=400.ckpt' as top 1\n"
     ]
    },
    {
     "name": "stdout",
     "output_type": "stream",
     "text": [
      "Epoch 8: |          | 50/? [00:05<00:00,  8.56it/s, v_num=56, train_loss=0.701]"
     ]
    },
    {
     "name": "stderr",
     "output_type": "stream",
     "text": [
      "Epoch 8, global step 450: 'train_loss' was not in top 1\n"
     ]
    },
    {
     "name": "stdout",
     "output_type": "stream",
     "text": [
      "Epoch 9: |          | 50/? [00:05<00:00,  9.18it/s, v_num=56, train_loss=0.674]"
     ]
    },
    {
     "name": "stderr",
     "output_type": "stream",
     "text": [
      "Epoch 9, global step 500: 'train_loss' was not in top 1\n"
     ]
    },
    {
     "name": "stdout",
     "output_type": "stream",
     "text": [
      "Epoch 10: |          | 50/? [00:05<00:00,  8.53it/s, v_num=56, train_loss=0.608]"
     ]
    },
    {
     "name": "stderr",
     "output_type": "stream",
     "text": [
      "Epoch 10, global step 550: 'train_loss' reached 0.60798 (best 0.60798), saving model to '/Users/namjihyeon/IE471/lightning_logs/version_56/checkpoints/epoch=10-step=550.ckpt' as top 1\n"
     ]
    },
    {
     "name": "stdout",
     "output_type": "stream",
     "text": [
      "Epoch 11: |          | 50/? [00:05<00:00,  8.89it/s, v_num=56, train_loss=0.645]"
     ]
    },
    {
     "name": "stderr",
     "output_type": "stream",
     "text": [
      "Epoch 11, global step 600: 'train_loss' was not in top 1\n"
     ]
    },
    {
     "name": "stdout",
     "output_type": "stream",
     "text": [
      "Epoch 12: |          | 50/? [00:05<00:00,  8.77it/s, v_num=56, train_loss=0.592]"
     ]
    },
    {
     "name": "stderr",
     "output_type": "stream",
     "text": [
      "Epoch 12, global step 650: 'train_loss' reached 0.59174 (best 0.59174), saving model to '/Users/namjihyeon/IE471/lightning_logs/version_56/checkpoints/epoch=12-step=650.ckpt' as top 1\n"
     ]
    },
    {
     "name": "stdout",
     "output_type": "stream",
     "text": [
      "Epoch 13: |          | 50/? [00:05<00:00,  8.92it/s, v_num=56, train_loss=0.624]"
     ]
    },
    {
     "name": "stderr",
     "output_type": "stream",
     "text": [
      "Epoch 13, global step 700: 'train_loss' was not in top 1\n"
     ]
    },
    {
     "name": "stdout",
     "output_type": "stream",
     "text": [
      "Epoch 14: |          | 50/? [00:05<00:00,  8.80it/s, v_num=56, train_loss=0.602]"
     ]
    },
    {
     "name": "stderr",
     "output_type": "stream",
     "text": [
      "Epoch 14, global step 750: 'train_loss' was not in top 1\n"
     ]
    },
    {
     "name": "stdout",
     "output_type": "stream",
     "text": [
      "Epoch 15: |          | 50/? [00:05<00:00,  8.58it/s, v_num=56, train_loss=0.579]"
     ]
    },
    {
     "name": "stderr",
     "output_type": "stream",
     "text": [
      "Epoch 15, global step 800: 'train_loss' reached 0.57874 (best 0.57874), saving model to '/Users/namjihyeon/IE471/lightning_logs/version_56/checkpoints/epoch=15-step=800.ckpt' as top 1\n"
     ]
    },
    {
     "name": "stdout",
     "output_type": "stream",
     "text": [
      "Epoch 16: |          | 50/? [00:05<00:00,  8.80it/s, v_num=56, train_loss=0.555]"
     ]
    },
    {
     "name": "stderr",
     "output_type": "stream",
     "text": [
      "Epoch 16, global step 850: 'train_loss' reached 0.55462 (best 0.55462), saving model to '/Users/namjihyeon/IE471/lightning_logs/version_56/checkpoints/epoch=16-step=850.ckpt' as top 1\n"
     ]
    },
    {
     "name": "stdout",
     "output_type": "stream",
     "text": [
      "Epoch 17: |          | 50/? [00:05<00:00,  8.83it/s, v_num=56, train_loss=0.610]"
     ]
    },
    {
     "name": "stderr",
     "output_type": "stream",
     "text": [
      "Epoch 17, global step 900: 'train_loss' was not in top 1\n"
     ]
    },
    {
     "name": "stdout",
     "output_type": "stream",
     "text": [
      "Epoch 18: |          | 50/? [00:05<00:00,  9.23it/s, v_num=56, train_loss=0.600]"
     ]
    },
    {
     "name": "stderr",
     "output_type": "stream",
     "text": [
      "Epoch 18, global step 950: 'train_loss' was not in top 1\n"
     ]
    },
    {
     "name": "stdout",
     "output_type": "stream",
     "text": [
      "Epoch 19: |          | 50/? [00:05<00:00,  8.43it/s, v_num=56, train_loss=0.586]"
     ]
    },
    {
     "name": "stderr",
     "output_type": "stream",
     "text": [
      "Epoch 19, global step 1000: 'train_loss' was not in top 1\n"
     ]
    },
    {
     "name": "stdout",
     "output_type": "stream",
     "text": [
      "Epoch 20: |          | 50/? [00:05<00:00,  9.12it/s, v_num=56, train_loss=0.539]"
     ]
    },
    {
     "name": "stderr",
     "output_type": "stream",
     "text": [
      "Epoch 20, global step 1050: 'train_loss' reached 0.53865 (best 0.53865), saving model to '/Users/namjihyeon/IE471/lightning_logs/version_56/checkpoints/epoch=20-step=1050.ckpt' as top 1\n"
     ]
    },
    {
     "name": "stdout",
     "output_type": "stream",
     "text": [
      "Epoch 21: |          | 50/? [00:05<00:00,  8.74it/s, v_num=56, train_loss=0.531]"
     ]
    },
    {
     "name": "stderr",
     "output_type": "stream",
     "text": [
      "Epoch 21, global step 1100: 'train_loss' reached 0.53078 (best 0.53078), saving model to '/Users/namjihyeon/IE471/lightning_logs/version_56/checkpoints/epoch=21-step=1100.ckpt' as top 1\n"
     ]
    },
    {
     "name": "stdout",
     "output_type": "stream",
     "text": [
      "Epoch 22: |          | 50/? [00:05<00:00,  9.35it/s, v_num=56, train_loss=0.547]"
     ]
    },
    {
     "name": "stderr",
     "output_type": "stream",
     "text": [
      "Epoch 22, global step 1150: 'train_loss' was not in top 1\n"
     ]
    },
    {
     "name": "stdout",
     "output_type": "stream",
     "text": [
      "Epoch 23: |          | 50/? [00:05<00:00,  8.52it/s, v_num=56, train_loss=0.533]"
     ]
    },
    {
     "name": "stderr",
     "output_type": "stream",
     "text": [
      "Epoch 23, global step 1200: 'train_loss' was not in top 1\n"
     ]
    },
    {
     "name": "stdout",
     "output_type": "stream",
     "text": [
      "Epoch 24: |          | 50/? [00:05<00:00,  9.32it/s, v_num=56, train_loss=0.497]"
     ]
    },
    {
     "name": "stderr",
     "output_type": "stream",
     "text": [
      "Epoch 24, global step 1250: 'train_loss' reached 0.49736 (best 0.49736), saving model to '/Users/namjihyeon/IE471/lightning_logs/version_56/checkpoints/epoch=24-step=1250.ckpt' as top 1\n"
     ]
    },
    {
     "name": "stdout",
     "output_type": "stream",
     "text": [
      "Epoch 25: |          | 50/? [00:05<00:00,  8.65it/s, v_num=56, train_loss=0.518]"
     ]
    },
    {
     "name": "stderr",
     "output_type": "stream",
     "text": [
      "Epoch 25, global step 1300: 'train_loss' was not in top 1\n"
     ]
    },
    {
     "name": "stdout",
     "output_type": "stream",
     "text": [
      "Epoch 26: |          | 50/? [00:05<00:00,  9.41it/s, v_num=56, train_loss=0.489]"
     ]
    },
    {
     "name": "stderr",
     "output_type": "stream",
     "text": [
      "Epoch 26, global step 1350: 'train_loss' reached 0.48884 (best 0.48884), saving model to '/Users/namjihyeon/IE471/lightning_logs/version_56/checkpoints/epoch=26-step=1350.ckpt' as top 1\n"
     ]
    },
    {
     "name": "stdout",
     "output_type": "stream",
     "text": [
      "Epoch 27: |          | 50/? [00:06<00:00,  8.18it/s, v_num=56, train_loss=0.462]"
     ]
    },
    {
     "name": "stderr",
     "output_type": "stream",
     "text": [
      "Epoch 27, global step 1400: 'train_loss' reached 0.46223 (best 0.46223), saving model to '/Users/namjihyeon/IE471/lightning_logs/version_56/checkpoints/epoch=27-step=1400.ckpt' as top 1\n"
     ]
    },
    {
     "name": "stdout",
     "output_type": "stream",
     "text": [
      "Epoch 28: |          | 50/? [00:05<00:00,  8.79it/s, v_num=56, train_loss=0.516]"
     ]
    },
    {
     "name": "stderr",
     "output_type": "stream",
     "text": [
      "Epoch 28, global step 1450: 'train_loss' was not in top 1\n"
     ]
    },
    {
     "name": "stdout",
     "output_type": "stream",
     "text": [
      "Epoch 29: |          | 50/? [00:05<00:00,  8.98it/s, v_num=56, train_loss=0.533]"
     ]
    },
    {
     "name": "stderr",
     "output_type": "stream",
     "text": [
      "Epoch 29, global step 1500: 'train_loss' was not in top 1\n"
     ]
    },
    {
     "name": "stdout",
     "output_type": "stream",
     "text": [
      "Epoch 30: |          | 50/? [00:05<00:00,  8.83it/s, v_num=56, train_loss=0.449]"
     ]
    },
    {
     "name": "stderr",
     "output_type": "stream",
     "text": [
      "Epoch 30, global step 1550: 'train_loss' reached 0.44880 (best 0.44880), saving model to '/Users/namjihyeon/IE471/lightning_logs/version_56/checkpoints/epoch=30-step=1550.ckpt' as top 1\n"
     ]
    },
    {
     "name": "stdout",
     "output_type": "stream",
     "text": [
      "Epoch 31: |          | 50/? [00:05<00:00,  8.98it/s, v_num=56, train_loss=0.429]"
     ]
    },
    {
     "name": "stderr",
     "output_type": "stream",
     "text": [
      "Epoch 31, global step 1600: 'train_loss' reached 0.42896 (best 0.42896), saving model to '/Users/namjihyeon/IE471/lightning_logs/version_56/checkpoints/epoch=31-step=1600.ckpt' as top 1\n"
     ]
    },
    {
     "name": "stdout",
     "output_type": "stream",
     "text": [
      "Epoch 32: |          | 50/? [00:05<00:00,  8.73it/s, v_num=56, train_loss=0.449]"
     ]
    },
    {
     "name": "stderr",
     "output_type": "stream",
     "text": [
      "Epoch 32, global step 1650: 'train_loss' was not in top 1\n"
     ]
    },
    {
     "name": "stdout",
     "output_type": "stream",
     "text": [
      "Epoch 33: |          | 50/? [00:05<00:00,  9.10it/s, v_num=56, train_loss=0.412]"
     ]
    },
    {
     "name": "stderr",
     "output_type": "stream",
     "text": [
      "Epoch 33, global step 1700: 'train_loss' reached 0.41192 (best 0.41192), saving model to '/Users/namjihyeon/IE471/lightning_logs/version_56/checkpoints/epoch=33-step=1700.ckpt' as top 1\n"
     ]
    },
    {
     "name": "stdout",
     "output_type": "stream",
     "text": [
      "Epoch 34: |          | 50/? [00:05<00:00,  8.41it/s, v_num=56, train_loss=0.428]"
     ]
    },
    {
     "name": "stderr",
     "output_type": "stream",
     "text": [
      "Epoch 34, global step 1750: 'train_loss' was not in top 1\n"
     ]
    },
    {
     "name": "stdout",
     "output_type": "stream",
     "text": [
      "Epoch 35: |          | 50/? [00:05<00:00,  9.19it/s, v_num=56, train_loss=0.431]"
     ]
    },
    {
     "name": "stderr",
     "output_type": "stream",
     "text": [
      "Epoch 35, global step 1800: 'train_loss' was not in top 1\n"
     ]
    },
    {
     "name": "stdout",
     "output_type": "stream",
     "text": [
      "Epoch 36: |          | 50/? [00:05<00:00,  8.56it/s, v_num=56, train_loss=0.436]"
     ]
    },
    {
     "name": "stderr",
     "output_type": "stream",
     "text": [
      "Epoch 36, global step 1850: 'train_loss' was not in top 1\n"
     ]
    },
    {
     "name": "stdout",
     "output_type": "stream",
     "text": [
      "Epoch 37: |          | 50/? [00:05<00:00,  9.18it/s, v_num=56, train_loss=0.398]"
     ]
    },
    {
     "name": "stderr",
     "output_type": "stream",
     "text": [
      "Epoch 37, global step 1900: 'train_loss' reached 0.39782 (best 0.39782), saving model to '/Users/namjihyeon/IE471/lightning_logs/version_56/checkpoints/epoch=37-step=1900.ckpt' as top 1\n"
     ]
    },
    {
     "name": "stdout",
     "output_type": "stream",
     "text": [
      "Epoch 38: |          | 50/? [00:05<00:00,  8.57it/s, v_num=56, train_loss=0.400]"
     ]
    },
    {
     "name": "stderr",
     "output_type": "stream",
     "text": [
      "Epoch 38, global step 1950: 'train_loss' was not in top 1\n"
     ]
    },
    {
     "name": "stdout",
     "output_type": "stream",
     "text": [
      "Epoch 39: |          | 50/? [00:05<00:00,  9.01it/s, v_num=56, train_loss=0.389]"
     ]
    },
    {
     "name": "stderr",
     "output_type": "stream",
     "text": [
      "Epoch 39, global step 2000: 'train_loss' reached 0.38942 (best 0.38942), saving model to '/Users/namjihyeon/IE471/lightning_logs/version_56/checkpoints/epoch=39-step=2000.ckpt' as top 1\n"
     ]
    },
    {
     "name": "stdout",
     "output_type": "stream",
     "text": [
      "Epoch 40: |          | 50/? [00:05<00:00,  8.89it/s, v_num=56, train_loss=0.417]"
     ]
    },
    {
     "name": "stderr",
     "output_type": "stream",
     "text": [
      "Epoch 40, global step 2050: 'train_loss' was not in top 1\n"
     ]
    },
    {
     "name": "stdout",
     "output_type": "stream",
     "text": [
      "Epoch 41: |          | 50/? [00:05<00:00,  8.79it/s, v_num=56, train_loss=0.424]"
     ]
    },
    {
     "name": "stderr",
     "output_type": "stream",
     "text": [
      "Epoch 41, global step 2100: 'train_loss' was not in top 1\n"
     ]
    },
    {
     "name": "stdout",
     "output_type": "stream",
     "text": [
      "Epoch 42: |          | 50/? [00:05<00:00,  8.84it/s, v_num=56, train_loss=0.369]"
     ]
    },
    {
     "name": "stderr",
     "output_type": "stream",
     "text": [
      "Epoch 42, global step 2150: 'train_loss' reached 0.36885 (best 0.36885), saving model to '/Users/namjihyeon/IE471/lightning_logs/version_56/checkpoints/epoch=42-step=2150.ckpt' as top 1\n"
     ]
    },
    {
     "name": "stdout",
     "output_type": "stream",
     "text": [
      "Epoch 43: |          | 50/? [00:05<00:00,  8.76it/s, v_num=56, train_loss=0.361]"
     ]
    },
    {
     "name": "stderr",
     "output_type": "stream",
     "text": [
      "Epoch 43, global step 2200: 'train_loss' reached 0.36119 (best 0.36119), saving model to '/Users/namjihyeon/IE471/lightning_logs/version_56/checkpoints/epoch=43-step=2200.ckpt' as top 1\n"
     ]
    },
    {
     "name": "stdout",
     "output_type": "stream",
     "text": [
      "Epoch 44: |          | 50/? [00:05<00:00,  9.16it/s, v_num=56, train_loss=0.386]"
     ]
    },
    {
     "name": "stderr",
     "output_type": "stream",
     "text": [
      "Epoch 44, global step 2250: 'train_loss' was not in top 1\n"
     ]
    },
    {
     "name": "stdout",
     "output_type": "stream",
     "text": [
      "Epoch 45: |          | 50/? [00:05<00:00,  8.78it/s, v_num=56, train_loss=0.427]"
     ]
    },
    {
     "name": "stderr",
     "output_type": "stream",
     "text": [
      "Epoch 45, global step 2300: 'train_loss' was not in top 1\n"
     ]
    },
    {
     "name": "stdout",
     "output_type": "stream",
     "text": [
      "Epoch 46: |          | 50/? [00:05<00:00,  8.87it/s, v_num=56, train_loss=0.396]"
     ]
    },
    {
     "name": "stderr",
     "output_type": "stream",
     "text": [
      "Epoch 46, global step 2350: 'train_loss' was not in top 1\n"
     ]
    },
    {
     "name": "stdout",
     "output_type": "stream",
     "text": [
      "Epoch 47: |          | 50/? [00:05<00:00,  8.72it/s, v_num=56, train_loss=0.350]"
     ]
    },
    {
     "name": "stderr",
     "output_type": "stream",
     "text": [
      "Epoch 47, global step 2400: 'train_loss' reached 0.34993 (best 0.34993), saving model to '/Users/namjihyeon/IE471/lightning_logs/version_56/checkpoints/epoch=47-step=2400.ckpt' as top 1\n"
     ]
    },
    {
     "name": "stdout",
     "output_type": "stream",
     "text": [
      "Epoch 48: |          | 50/? [00:05<00:00,  9.25it/s, v_num=56, train_loss=0.337]"
     ]
    },
    {
     "name": "stderr",
     "output_type": "stream",
     "text": [
      "Epoch 48, global step 2450: 'train_loss' reached 0.33700 (best 0.33700), saving model to '/Users/namjihyeon/IE471/lightning_logs/version_56/checkpoints/epoch=48-step=2450.ckpt' as top 1\n"
     ]
    },
    {
     "name": "stdout",
     "output_type": "stream",
     "text": [
      "Epoch 49: |          | 50/? [00:05<00:00,  8.74it/s, v_num=56, train_loss=0.332]"
     ]
    },
    {
     "name": "stderr",
     "output_type": "stream",
     "text": [
      "Epoch 49, global step 2500: 'train_loss' reached 0.33238 (best 0.33238), saving model to '/Users/namjihyeon/IE471/lightning_logs/version_56/checkpoints/epoch=49-step=2500.ckpt' as top 1\n"
     ]
    },
    {
     "name": "stdout",
     "output_type": "stream",
     "text": [
      "Epoch 50: |          | 50/? [00:05<00:00,  9.11it/s, v_num=56, train_loss=0.325]"
     ]
    },
    {
     "name": "stderr",
     "output_type": "stream",
     "text": [
      "Epoch 50, global step 2550: 'train_loss' reached 0.32530 (best 0.32530), saving model to '/Users/namjihyeon/IE471/lightning_logs/version_56/checkpoints/epoch=50-step=2550.ckpt' as top 1\n"
     ]
    },
    {
     "name": "stdout",
     "output_type": "stream",
     "text": [
      "Epoch 51: |          | 50/? [00:05<00:00,  8.69it/s, v_num=56, train_loss=0.343]"
     ]
    },
    {
     "name": "stderr",
     "output_type": "stream",
     "text": [
      "Epoch 51, global step 2600: 'train_loss' was not in top 1\n"
     ]
    },
    {
     "name": "stdout",
     "output_type": "stream",
     "text": [
      "Epoch 52: |          | 50/? [00:05<00:00,  9.26it/s, v_num=56, train_loss=0.325]"
     ]
    },
    {
     "name": "stderr",
     "output_type": "stream",
     "text": [
      "Epoch 52, global step 2650: 'train_loss' reached 0.32529 (best 0.32529), saving model to '/Users/namjihyeon/IE471/lightning_logs/version_56/checkpoints/epoch=52-step=2650.ckpt' as top 1\n"
     ]
    },
    {
     "name": "stdout",
     "output_type": "stream",
     "text": [
      "Epoch 53: |          | 50/? [00:05<00:00,  8.65it/s, v_num=56, train_loss=0.372]"
     ]
    },
    {
     "name": "stderr",
     "output_type": "stream",
     "text": [
      "Epoch 53, global step 2700: 'train_loss' was not in top 1\n"
     ]
    },
    {
     "name": "stdout",
     "output_type": "stream",
     "text": [
      "Epoch 54: |          | 50/? [00:05<00:00,  9.06it/s, v_num=56, train_loss=0.313]"
     ]
    },
    {
     "name": "stderr",
     "output_type": "stream",
     "text": [
      "Epoch 54, global step 2750: 'train_loss' reached 0.31275 (best 0.31275), saving model to '/Users/namjihyeon/IE471/lightning_logs/version_56/checkpoints/epoch=54-step=2750.ckpt' as top 1\n"
     ]
    },
    {
     "name": "stdout",
     "output_type": "stream",
     "text": [
      "Epoch 55: |          | 50/? [00:05<00:00,  8.70it/s, v_num=56, train_loss=0.300]"
     ]
    },
    {
     "name": "stderr",
     "output_type": "stream",
     "text": [
      "Epoch 55, global step 2800: 'train_loss' reached 0.29998 (best 0.29998), saving model to '/Users/namjihyeon/IE471/lightning_logs/version_56/checkpoints/epoch=55-step=2800.ckpt' as top 1\n"
     ]
    },
    {
     "name": "stdout",
     "output_type": "stream",
     "text": [
      "Epoch 56: |          | 50/? [00:05<00:00,  9.03it/s, v_num=56, train_loss=0.322]"
     ]
    },
    {
     "name": "stderr",
     "output_type": "stream",
     "text": [
      "Epoch 56, global step 2850: 'train_loss' was not in top 1\n"
     ]
    },
    {
     "name": "stdout",
     "output_type": "stream",
     "text": [
      "Epoch 57: |          | 50/? [00:05<00:00,  8.75it/s, v_num=56, train_loss=0.317]"
     ]
    },
    {
     "name": "stderr",
     "output_type": "stream",
     "text": [
      "Epoch 57, global step 2900: 'train_loss' was not in top 1\n"
     ]
    },
    {
     "name": "stdout",
     "output_type": "stream",
     "text": [
      "Epoch 58: |          | 50/? [00:05<00:00,  8.73it/s, v_num=56, train_loss=0.296]"
     ]
    },
    {
     "name": "stderr",
     "output_type": "stream",
     "text": [
      "Epoch 58, global step 2950: 'train_loss' reached 0.29554 (best 0.29554), saving model to '/Users/namjihyeon/IE471/lightning_logs/version_56/checkpoints/epoch=58-step=2950.ckpt' as top 1\n"
     ]
    },
    {
     "name": "stdout",
     "output_type": "stream",
     "text": [
      "Epoch 59: |          | 50/? [00:05<00:00,  9.01it/s, v_num=56, train_loss=0.324]"
     ]
    },
    {
     "name": "stderr",
     "output_type": "stream",
     "text": [
      "Epoch 59, global step 3000: 'train_loss' was not in top 1\n"
     ]
    },
    {
     "name": "stdout",
     "output_type": "stream",
     "text": [
      "Epoch 60: |          | 50/? [00:05<00:00,  8.90it/s, v_num=56, train_loss=0.300]"
     ]
    },
    {
     "name": "stderr",
     "output_type": "stream",
     "text": [
      "Epoch 60, global step 3050: 'train_loss' was not in top 1\n"
     ]
    },
    {
     "name": "stdout",
     "output_type": "stream",
     "text": [
      "Epoch 61: |          | 50/? [00:05<00:00,  9.18it/s, v_num=56, train_loss=0.300]"
     ]
    },
    {
     "name": "stderr",
     "output_type": "stream",
     "text": [
      "Epoch 61, global step 3100: 'train_loss' was not in top 1\n"
     ]
    },
    {
     "name": "stdout",
     "output_type": "stream",
     "text": [
      "Epoch 62: |          | 50/? [00:05<00:00,  8.59it/s, v_num=56, train_loss=0.291]"
     ]
    },
    {
     "name": "stderr",
     "output_type": "stream",
     "text": [
      "Epoch 62, global step 3150: 'train_loss' reached 0.29087 (best 0.29087), saving model to '/Users/namjihyeon/IE471/lightning_logs/version_56/checkpoints/epoch=62-step=3150.ckpt' as top 1\n"
     ]
    },
    {
     "name": "stdout",
     "output_type": "stream",
     "text": [
      "Epoch 63: |          | 50/? [00:05<00:00,  9.23it/s, v_num=56, train_loss=0.296]"
     ]
    },
    {
     "name": "stderr",
     "output_type": "stream",
     "text": [
      "Epoch 63, global step 3200: 'train_loss' was not in top 1\n"
     ]
    },
    {
     "name": "stdout",
     "output_type": "stream",
     "text": [
      "Epoch 64: |          | 50/? [00:05<00:00,  8.68it/s, v_num=56, train_loss=0.320]"
     ]
    },
    {
     "name": "stderr",
     "output_type": "stream",
     "text": [
      "Epoch 64, global step 3250: 'train_loss' was not in top 1\n"
     ]
    },
    {
     "name": "stdout",
     "output_type": "stream",
     "text": [
      "Epoch 65: |          | 50/? [00:05<00:00,  9.07it/s, v_num=56, train_loss=0.310]"
     ]
    },
    {
     "name": "stderr",
     "output_type": "stream",
     "text": [
      "Epoch 65, global step 3300: 'train_loss' was not in top 1\n"
     ]
    },
    {
     "name": "stdout",
     "output_type": "stream",
     "text": [
      "Epoch 66: |          | 50/? [00:05<00:00,  8.48it/s, v_num=56, train_loss=0.266]"
     ]
    },
    {
     "name": "stderr",
     "output_type": "stream",
     "text": [
      "Epoch 66, global step 3350: 'train_loss' reached 0.26596 (best 0.26596), saving model to '/Users/namjihyeon/IE471/lightning_logs/version_56/checkpoints/epoch=66-step=3350.ckpt' as top 1\n"
     ]
    },
    {
     "name": "stdout",
     "output_type": "stream",
     "text": [
      "Epoch 67: |          | 50/? [00:05<00:00,  9.13it/s, v_num=56, train_loss=0.272]"
     ]
    },
    {
     "name": "stderr",
     "output_type": "stream",
     "text": [
      "Epoch 67, global step 3400: 'train_loss' was not in top 1\n"
     ]
    },
    {
     "name": "stdout",
     "output_type": "stream",
     "text": [
      "Epoch 68: |          | 50/? [00:05<00:00,  8.80it/s, v_num=56, train_loss=0.292]"
     ]
    },
    {
     "name": "stderr",
     "output_type": "stream",
     "text": [
      "Epoch 68, global step 3450: 'train_loss' was not in top 1\n"
     ]
    },
    {
     "name": "stdout",
     "output_type": "stream",
     "text": [
      "Epoch 69: |          | 50/? [00:05<00:00,  9.13it/s, v_num=56, train_loss=0.295]"
     ]
    },
    {
     "name": "stderr",
     "output_type": "stream",
     "text": [
      "Epoch 69, global step 3500: 'train_loss' was not in top 1\n"
     ]
    },
    {
     "name": "stdout",
     "output_type": "stream",
     "text": [
      "Epoch 70: |          | 50/? [00:05<00:00,  8.72it/s, v_num=56, train_loss=0.265]"
     ]
    },
    {
     "name": "stderr",
     "output_type": "stream",
     "text": [
      "Epoch 70, global step 3550: 'train_loss' reached 0.26452 (best 0.26452), saving model to '/Users/namjihyeon/IE471/lightning_logs/version_56/checkpoints/epoch=70-step=3550.ckpt' as top 1\n"
     ]
    },
    {
     "name": "stdout",
     "output_type": "stream",
     "text": [
      "Epoch 71: |          | 50/? [00:05<00:00,  8.73it/s, v_num=56, train_loss=0.262]"
     ]
    },
    {
     "name": "stderr",
     "output_type": "stream",
     "text": [
      "Epoch 71, global step 3600: 'train_loss' reached 0.26152 (best 0.26152), saving model to '/Users/namjihyeon/IE471/lightning_logs/version_56/checkpoints/epoch=71-step=3600.ckpt' as top 1\n"
     ]
    },
    {
     "name": "stdout",
     "output_type": "stream",
     "text": [
      "Epoch 72: |          | 50/? [00:05<00:00,  8.80it/s, v_num=56, train_loss=0.266]"
     ]
    },
    {
     "name": "stderr",
     "output_type": "stream",
     "text": [
      "Epoch 72, global step 3650: 'train_loss' was not in top 1\n"
     ]
    },
    {
     "name": "stdout",
     "output_type": "stream",
     "text": [
      "Epoch 73: |          | 50/? [00:05<00:00,  8.59it/s, v_num=56, train_loss=0.292]"
     ]
    },
    {
     "name": "stderr",
     "output_type": "stream",
     "text": [
      "Epoch 73, global step 3700: 'train_loss' was not in top 1\n"
     ]
    },
    {
     "name": "stdout",
     "output_type": "stream",
     "text": [
      "Epoch 74: |          | 50/? [00:05<00:00,  9.10it/s, v_num=56, train_loss=0.274]"
     ]
    },
    {
     "name": "stderr",
     "output_type": "stream",
     "text": [
      "Epoch 74, global step 3750: 'train_loss' was not in top 1\n"
     ]
    },
    {
     "name": "stdout",
     "output_type": "stream",
     "text": [
      "Epoch 75: |          | 50/? [00:06<00:00,  7.70it/s, v_num=56, train_loss=0.286]"
     ]
    },
    {
     "name": "stderr",
     "output_type": "stream",
     "text": [
      "Epoch 75, global step 3800: 'train_loss' was not in top 1\n"
     ]
    },
    {
     "name": "stdout",
     "output_type": "stream",
     "text": [
      "Epoch 76: |          | 50/? [00:05<00:00,  8.81it/s, v_num=56, train_loss=0.283]"
     ]
    },
    {
     "name": "stderr",
     "output_type": "stream",
     "text": [
      "Epoch 76, global step 3850: 'train_loss' was not in top 1\n"
     ]
    },
    {
     "name": "stdout",
     "output_type": "stream",
     "text": [
      "Epoch 77: |          | 50/? [00:05<00:00,  8.70it/s, v_num=56, train_loss=0.287]"
     ]
    },
    {
     "name": "stderr",
     "output_type": "stream",
     "text": [
      "Epoch 77, global step 3900: 'train_loss' was not in top 1\n"
     ]
    },
    {
     "name": "stdout",
     "output_type": "stream",
     "text": [
      "Epoch 78: |          | 50/? [00:05<00:00,  9.26it/s, v_num=56, train_loss=0.249]"
     ]
    },
    {
     "name": "stderr",
     "output_type": "stream",
     "text": [
      "Epoch 78, global step 3950: 'train_loss' reached 0.24915 (best 0.24915), saving model to '/Users/namjihyeon/IE471/lightning_logs/version_56/checkpoints/epoch=78-step=3950.ckpt' as top 1\n"
     ]
    },
    {
     "name": "stdout",
     "output_type": "stream",
     "text": [
      "Epoch 79: |          | 50/? [00:05<00:00,  8.58it/s, v_num=56, train_loss=0.264]"
     ]
    },
    {
     "name": "stderr",
     "output_type": "stream",
     "text": [
      "Epoch 79, global step 4000: 'train_loss' was not in top 1\n"
     ]
    },
    {
     "name": "stdout",
     "output_type": "stream",
     "text": [
      "Epoch 80: |          | 50/? [00:05<00:00,  9.01it/s, v_num=56, train_loss=0.261]"
     ]
    },
    {
     "name": "stderr",
     "output_type": "stream",
     "text": [
      "Epoch 80, global step 4050: 'train_loss' was not in top 1\n"
     ]
    },
    {
     "name": "stdout",
     "output_type": "stream",
     "text": [
      "Epoch 81: |          | 50/? [00:05<00:00,  8.60it/s, v_num=56, train_loss=0.261]"
     ]
    },
    {
     "name": "stderr",
     "output_type": "stream",
     "text": [
      "Epoch 81, global step 4100: 'train_loss' was not in top 1\n"
     ]
    },
    {
     "name": "stdout",
     "output_type": "stream",
     "text": [
      "Epoch 82: |          | 50/? [00:05<00:00,  9.25it/s, v_num=56, train_loss=0.254]"
     ]
    },
    {
     "name": "stderr",
     "output_type": "stream",
     "text": [
      "Epoch 82, global step 4150: 'train_loss' was not in top 1\n"
     ]
    },
    {
     "name": "stdout",
     "output_type": "stream",
     "text": [
      "Epoch 83: |          | 50/? [00:05<00:00,  8.59it/s, v_num=56, train_loss=0.238]"
     ]
    },
    {
     "name": "stderr",
     "output_type": "stream",
     "text": [
      "Epoch 83, global step 4200: 'train_loss' reached 0.23835 (best 0.23835), saving model to '/Users/namjihyeon/IE471/lightning_logs/version_56/checkpoints/epoch=83-step=4200.ckpt' as top 1\n"
     ]
    },
    {
     "name": "stdout",
     "output_type": "stream",
     "text": [
      "Epoch 84: |          | 50/? [00:05<00:00,  8.59it/s, v_num=56, train_loss=0.257]"
     ]
    },
    {
     "name": "stderr",
     "output_type": "stream",
     "text": [
      "Epoch 84, global step 4250: 'train_loss' was not in top 1\n"
     ]
    },
    {
     "name": "stdout",
     "output_type": "stream",
     "text": [
      "Epoch 85: |          | 50/? [00:05<00:00,  8.80it/s, v_num=56, train_loss=0.241]"
     ]
    },
    {
     "name": "stderr",
     "output_type": "stream",
     "text": [
      "Epoch 85, global step 4300: 'train_loss' was not in top 1\n"
     ]
    },
    {
     "name": "stdout",
     "output_type": "stream",
     "text": [
      "Epoch 86: |          | 50/? [00:05<00:00,  8.79it/s, v_num=56, train_loss=0.252]"
     ]
    },
    {
     "name": "stderr",
     "output_type": "stream",
     "text": [
      "Epoch 86, global step 4350: 'train_loss' was not in top 1\n"
     ]
    },
    {
     "name": "stdout",
     "output_type": "stream",
     "text": [
      "Epoch 87: |          | 50/? [00:06<00:00,  7.26it/s, v_num=56, train_loss=0.249]"
     ]
    },
    {
     "name": "stderr",
     "output_type": "stream",
     "text": [
      "Epoch 87, global step 4400: 'train_loss' was not in top 1\n"
     ]
    },
    {
     "name": "stdout",
     "output_type": "stream",
     "text": [
      "Epoch 88: |          | 50/? [00:05<00:00,  8.83it/s, v_num=56, train_loss=0.232]"
     ]
    },
    {
     "name": "stderr",
     "output_type": "stream",
     "text": [
      "Epoch 88, global step 4450: 'train_loss' reached 0.23235 (best 0.23235), saving model to '/Users/namjihyeon/IE471/lightning_logs/version_56/checkpoints/epoch=88-step=4450.ckpt' as top 1\n"
     ]
    },
    {
     "name": "stdout",
     "output_type": "stream",
     "text": [
      "Epoch 89: |          | 50/? [00:05<00:00,  9.56it/s, v_num=56, train_loss=0.276]"
     ]
    },
    {
     "name": "stderr",
     "output_type": "stream",
     "text": [
      "Epoch 89, global step 4500: 'train_loss' was not in top 1\n"
     ]
    },
    {
     "name": "stdout",
     "output_type": "stream",
     "text": [
      "Epoch 90: |          | 50/? [00:05<00:00,  8.98it/s, v_num=56, train_loss=0.222]"
     ]
    },
    {
     "name": "stderr",
     "output_type": "stream",
     "text": [
      "Epoch 90, global step 4550: 'train_loss' reached 0.22159 (best 0.22159), saving model to '/Users/namjihyeon/IE471/lightning_logs/version_56/checkpoints/epoch=90-step=4550.ckpt' as top 1\n"
     ]
    },
    {
     "name": "stdout",
     "output_type": "stream",
     "text": [
      "Epoch 91: |          | 50/? [00:05<00:00,  9.53it/s, v_num=56, train_loss=0.232]"
     ]
    },
    {
     "name": "stderr",
     "output_type": "stream",
     "text": [
      "Epoch 91, global step 4600: 'train_loss' was not in top 1\n"
     ]
    },
    {
     "name": "stdout",
     "output_type": "stream",
     "text": [
      "Epoch 92: |          | 50/? [00:05<00:00,  8.99it/s, v_num=56, train_loss=0.255]"
     ]
    },
    {
     "name": "stderr",
     "output_type": "stream",
     "text": [
      "Epoch 92, global step 4650: 'train_loss' was not in top 1\n"
     ]
    },
    {
     "name": "stdout",
     "output_type": "stream",
     "text": [
      "Epoch 93: |          | 50/? [00:05<00:00,  9.61it/s, v_num=56, train_loss=0.252]"
     ]
    },
    {
     "name": "stderr",
     "output_type": "stream",
     "text": [
      "Epoch 93, global step 4700: 'train_loss' was not in top 1\n"
     ]
    },
    {
     "name": "stdout",
     "output_type": "stream",
     "text": [
      "Epoch 94: |          | 50/? [00:05<00:00,  9.18it/s, v_num=56, train_loss=0.223]"
     ]
    },
    {
     "name": "stderr",
     "output_type": "stream",
     "text": [
      "Epoch 94, global step 4750: 'train_loss' was not in top 1\n"
     ]
    },
    {
     "name": "stdout",
     "output_type": "stream",
     "text": [
      "Epoch 95: |          | 50/? [00:05<00:00,  9.70it/s, v_num=56, train_loss=0.255]"
     ]
    },
    {
     "name": "stderr",
     "output_type": "stream",
     "text": [
      "Epoch 95, global step 4800: 'train_loss' was not in top 1\n"
     ]
    },
    {
     "name": "stdout",
     "output_type": "stream",
     "text": [
      "Epoch 96: |          | 50/? [00:05<00:00,  8.96it/s, v_num=56, train_loss=0.259]"
     ]
    },
    {
     "name": "stderr",
     "output_type": "stream",
     "text": [
      "Epoch 96, global step 4850: 'train_loss' was not in top 1\n"
     ]
    },
    {
     "name": "stdout",
     "output_type": "stream",
     "text": [
      "Epoch 97: |          | 50/? [00:05<00:00,  9.72it/s, v_num=56, train_loss=0.227]"
     ]
    },
    {
     "name": "stderr",
     "output_type": "stream",
     "text": [
      "Epoch 97, global step 4900: 'train_loss' was not in top 1\n"
     ]
    },
    {
     "name": "stdout",
     "output_type": "stream",
     "text": [
      "Epoch 98: |          | 50/? [00:05<00:00,  9.04it/s, v_num=56, train_loss=0.256]"
     ]
    },
    {
     "name": "stderr",
     "output_type": "stream",
     "text": [
      "Epoch 98, global step 4950: 'train_loss' was not in top 1\n"
     ]
    },
    {
     "name": "stdout",
     "output_type": "stream",
     "text": [
      "Epoch 99: |          | 50/? [00:05<00:00,  9.59it/s, v_num=56, train_loss=0.231]"
     ]
    },
    {
     "name": "stderr",
     "output_type": "stream",
     "text": [
      "Epoch 99, global step 5000: 'train_loss' was not in top 1\n"
     ]
    },
    {
     "name": "stdout",
     "output_type": "stream",
     "text": [
      "Epoch 100: |          | 50/? [00:05<00:00,  9.03it/s, v_num=56, train_loss=0.247]"
     ]
    },
    {
     "name": "stderr",
     "output_type": "stream",
     "text": [
      "Epoch 100, global step 5050: 'train_loss' was not in top 1\n"
     ]
    },
    {
     "name": "stdout",
     "output_type": "stream",
     "text": [
      "Epoch 101: |          | 50/? [00:05<00:00,  9.58it/s, v_num=56, train_loss=0.223]"
     ]
    },
    {
     "name": "stderr",
     "output_type": "stream",
     "text": [
      "Epoch 101, global step 5100: 'train_loss' was not in top 1\n"
     ]
    },
    {
     "name": "stdout",
     "output_type": "stream",
     "text": [
      "Epoch 102: |          | 50/? [00:06<00:00,  7.69it/s, v_num=56, train_loss=0.222]"
     ]
    },
    {
     "name": "stderr",
     "output_type": "stream",
     "text": [
      "Epoch 102, global step 5150: 'train_loss' was not in top 1\n"
     ]
    },
    {
     "name": "stdout",
     "output_type": "stream",
     "text": [
      "Epoch 103: |          | 50/? [14:22<00:00,  0.06it/s, v_num=56, train_loss=0.199]"
     ]
    },
    {
     "name": "stderr",
     "output_type": "stream",
     "text": [
      "Epoch 103, global step 5200: 'train_loss' reached 0.19860 (best 0.19860), saving model to '/Users/namjihyeon/IE471/lightning_logs/version_56/checkpoints/epoch=103-step=5200.ckpt' as top 1\n"
     ]
    },
    {
     "name": "stdout",
     "output_type": "stream",
     "text": [
      "Epoch 104: |          | 50/? [00:08<00:00,  5.75it/s, v_num=56, train_loss=0.197]"
     ]
    },
    {
     "name": "stderr",
     "output_type": "stream",
     "text": [
      "Epoch 104, global step 5250: 'train_loss' reached 0.19703 (best 0.19703), saving model to '/Users/namjihyeon/IE471/lightning_logs/version_56/checkpoints/epoch=104-step=5250.ckpt' as top 1\n"
     ]
    },
    {
     "name": "stdout",
     "output_type": "stream",
     "text": [
      "Epoch 105: |          | 50/? [00:06<00:00,  7.52it/s, v_num=56, train_loss=0.195]"
     ]
    },
    {
     "name": "stderr",
     "output_type": "stream",
     "text": [
      "Epoch 105, global step 5300: 'train_loss' reached 0.19468 (best 0.19468), saving model to '/Users/namjihyeon/IE471/lightning_logs/version_56/checkpoints/epoch=105-step=5300.ckpt' as top 1\n"
     ]
    },
    {
     "name": "stdout",
     "output_type": "stream",
     "text": [
      "Epoch 106: |          | 50/? [00:06<00:00,  7.78it/s, v_num=56, train_loss=0.204]"
     ]
    },
    {
     "name": "stderr",
     "output_type": "stream",
     "text": [
      "Epoch 106, global step 5350: 'train_loss' was not in top 1\n"
     ]
    },
    {
     "name": "stdout",
     "output_type": "stream",
     "text": [
      "Epoch 107: |          | 50/? [00:07<00:00,  6.41it/s, v_num=56, train_loss=0.205]"
     ]
    },
    {
     "name": "stderr",
     "output_type": "stream",
     "text": [
      "Epoch 107, global step 5400: 'train_loss' was not in top 1\n"
     ]
    },
    {
     "name": "stdout",
     "output_type": "stream",
     "text": [
      "Epoch 108: |          | 50/? [00:06<00:00,  7.63it/s, v_num=56, train_loss=0.210]"
     ]
    },
    {
     "name": "stderr",
     "output_type": "stream",
     "text": [
      "Epoch 108, global step 5450: 'train_loss' was not in top 1\n"
     ]
    },
    {
     "name": "stdout",
     "output_type": "stream",
     "text": [
      "Epoch 109: |          | 50/? [00:06<00:00,  7.64it/s, v_num=56, train_loss=0.217]"
     ]
    },
    {
     "name": "stderr",
     "output_type": "stream",
     "text": [
      "Epoch 109, global step 5500: 'train_loss' was not in top 1\n"
     ]
    },
    {
     "name": "stdout",
     "output_type": "stream",
     "text": [
      "Epoch 110: |          | 50/? [00:06<00:00,  7.57it/s, v_num=56, train_loss=0.251]"
     ]
    },
    {
     "name": "stderr",
     "output_type": "stream",
     "text": [
      "Epoch 110, global step 5550: 'train_loss' was not in top 1\n"
     ]
    },
    {
     "name": "stdout",
     "output_type": "stream",
     "text": [
      "Epoch 111: |          | 50/? [00:06<00:00,  7.16it/s, v_num=56, train_loss=0.207]"
     ]
    },
    {
     "name": "stderr",
     "output_type": "stream",
     "text": [
      "Epoch 111, global step 5600: 'train_loss' was not in top 1\n"
     ]
    },
    {
     "name": "stdout",
     "output_type": "stream",
     "text": [
      "Epoch 112: |          | 50/? [00:09<00:00,  5.41it/s, v_num=56, train_loss=0.207]"
     ]
    },
    {
     "name": "stderr",
     "output_type": "stream",
     "text": [
      "Epoch 112, global step 5650: 'train_loss' was not in top 1\n"
     ]
    },
    {
     "name": "stdout",
     "output_type": "stream",
     "text": [
      "Epoch 113: |          | 50/? [00:07<00:00,  7.13it/s, v_num=56, train_loss=0.251]"
     ]
    },
    {
     "name": "stderr",
     "output_type": "stream",
     "text": [
      "Epoch 113, global step 5700: 'train_loss' was not in top 1\n"
     ]
    },
    {
     "name": "stdout",
     "output_type": "stream",
     "text": [
      "Epoch 114: |          | 50/? [00:08<00:00,  5.82it/s, v_num=56, train_loss=0.204]"
     ]
    },
    {
     "name": "stderr",
     "output_type": "stream",
     "text": [
      "Epoch 114, global step 5750: 'train_loss' was not in top 1\n"
     ]
    },
    {
     "name": "stdout",
     "output_type": "stream",
     "text": [
      "Epoch 115: |          | 50/? [00:06<00:00,  7.90it/s, v_num=56, train_loss=0.191]"
     ]
    },
    {
     "name": "stderr",
     "output_type": "stream",
     "text": [
      "Epoch 115, global step 5800: 'train_loss' reached 0.19120 (best 0.19120), saving model to '/Users/namjihyeon/IE471/lightning_logs/version_56/checkpoints/epoch=115-step=5800.ckpt' as top 1\n"
     ]
    },
    {
     "name": "stdout",
     "output_type": "stream",
     "text": [
      "Epoch 116: |          | 50/? [00:11<00:00,  4.41it/s, v_num=56, train_loss=0.218]"
     ]
    },
    {
     "name": "stderr",
     "output_type": "stream",
     "text": [
      "Epoch 116, global step 5850: 'train_loss' was not in top 1\n"
     ]
    },
    {
     "name": "stdout",
     "output_type": "stream",
     "text": [
      "Epoch 117: |          | 50/? [00:05<00:00,  8.66it/s, v_num=56, train_loss=0.187]"
     ]
    },
    {
     "name": "stderr",
     "output_type": "stream",
     "text": [
      "Epoch 117, global step 5900: 'train_loss' reached 0.18650 (best 0.18650), saving model to '/Users/namjihyeon/IE471/lightning_logs/version_56/checkpoints/epoch=117-step=5900.ckpt' as top 1\n"
     ]
    },
    {
     "name": "stdout",
     "output_type": "stream",
     "text": [
      "Epoch 118: |          | 50/? [00:07<00:00,  6.30it/s, v_num=56, train_loss=0.189]"
     ]
    },
    {
     "name": "stderr",
     "output_type": "stream",
     "text": [
      "Epoch 118, global step 5950: 'train_loss' was not in top 1\n"
     ]
    },
    {
     "name": "stdout",
     "output_type": "stream",
     "text": [
      "Epoch 119: |          | 50/? [00:06<00:00,  7.64it/s, v_num=56, train_loss=0.184]"
     ]
    },
    {
     "name": "stderr",
     "output_type": "stream",
     "text": [
      "Epoch 119, global step 6000: 'train_loss' reached 0.18394 (best 0.18394), saving model to '/Users/namjihyeon/IE471/lightning_logs/version_56/checkpoints/epoch=119-step=6000.ckpt' as top 1\n"
     ]
    },
    {
     "name": "stdout",
     "output_type": "stream",
     "text": [
      "Epoch 120: |          | 50/? [00:09<00:00,  5.18it/s, v_num=56, train_loss=0.219]"
     ]
    },
    {
     "name": "stderr",
     "output_type": "stream",
     "text": [
      "Epoch 120, global step 6050: 'train_loss' was not in top 1\n"
     ]
    },
    {
     "name": "stdout",
     "output_type": "stream",
     "text": [
      "Epoch 121: |          | 50/? [00:06<00:00,  7.61it/s, v_num=56, train_loss=0.196]"
     ]
    },
    {
     "name": "stderr",
     "output_type": "stream",
     "text": [
      "Epoch 121, global step 6100: 'train_loss' was not in top 1\n"
     ]
    },
    {
     "name": "stdout",
     "output_type": "stream",
     "text": [
      "Epoch 122: |          | 50/? [00:07<00:00,  6.86it/s, v_num=56, train_loss=0.203]"
     ]
    },
    {
     "name": "stderr",
     "output_type": "stream",
     "text": [
      "Epoch 122, global step 6150: 'train_loss' was not in top 1\n"
     ]
    },
    {
     "name": "stdout",
     "output_type": "stream",
     "text": [
      "Epoch 123: |          | 50/? [00:05<00:00,  8.34it/s, v_num=56, train_loss=0.203]"
     ]
    },
    {
     "name": "stderr",
     "output_type": "stream",
     "text": [
      "Epoch 123, global step 6200: 'train_loss' was not in top 1\n"
     ]
    },
    {
     "name": "stdout",
     "output_type": "stream",
     "text": [
      "Epoch 124: |          | 50/? [00:07<00:00,  6.86it/s, v_num=56, train_loss=0.215]"
     ]
    },
    {
     "name": "stderr",
     "output_type": "stream",
     "text": [
      "Epoch 124, global step 6250: 'train_loss' was not in top 1\n"
     ]
    },
    {
     "name": "stdout",
     "output_type": "stream",
     "text": [
      "Epoch 125: |          | 50/? [00:07<00:00,  6.38it/s, v_num=56, train_loss=0.211]"
     ]
    },
    {
     "name": "stderr",
     "output_type": "stream",
     "text": [
      "Epoch 125, global step 6300: 'train_loss' was not in top 1\n"
     ]
    },
    {
     "name": "stdout",
     "output_type": "stream",
     "text": [
      "Epoch 126: |          | 50/? [00:06<00:00,  7.56it/s, v_num=56, train_loss=0.195]"
     ]
    },
    {
     "name": "stderr",
     "output_type": "stream",
     "text": [
      "Epoch 126, global step 6350: 'train_loss' was not in top 1\n"
     ]
    },
    {
     "name": "stdout",
     "output_type": "stream",
     "text": [
      "Epoch 127: |          | 50/? [00:06<00:00,  7.58it/s, v_num=56, train_loss=0.182]"
     ]
    },
    {
     "name": "stderr",
     "output_type": "stream",
     "text": [
      "Epoch 127, global step 6400: 'train_loss' reached 0.18194 (best 0.18194), saving model to '/Users/namjihyeon/IE471/lightning_logs/version_56/checkpoints/epoch=127-step=6400.ckpt' as top 1\n"
     ]
    },
    {
     "name": "stdout",
     "output_type": "stream",
     "text": [
      "Epoch 128: |          | 50/? [00:06<00:00,  7.54it/s, v_num=56, train_loss=0.176]"
     ]
    },
    {
     "name": "stderr",
     "output_type": "stream",
     "text": [
      "Epoch 128, global step 6450: 'train_loss' reached 0.17638 (best 0.17638), saving model to '/Users/namjihyeon/IE471/lightning_logs/version_56/checkpoints/epoch=128-step=6450.ckpt' as top 1\n"
     ]
    },
    {
     "name": "stdout",
     "output_type": "stream",
     "text": [
      "Epoch 129: |          | 50/? [00:06<00:00,  7.74it/s, v_num=56, train_loss=0.207]"
     ]
    },
    {
     "name": "stderr",
     "output_type": "stream",
     "text": [
      "Epoch 129, global step 6500: 'train_loss' was not in top 1\n"
     ]
    },
    {
     "name": "stdout",
     "output_type": "stream",
     "text": [
      "Epoch 130: |          | 50/? [00:06<00:00,  8.14it/s, v_num=56, train_loss=0.180]"
     ]
    },
    {
     "name": "stderr",
     "output_type": "stream",
     "text": [
      "Epoch 130, global step 6550: 'train_loss' was not in top 1\n"
     ]
    },
    {
     "name": "stdout",
     "output_type": "stream",
     "text": [
      "Epoch 131: |          | 50/? [00:06<00:00,  8.09it/s, v_num=56, train_loss=0.240]"
     ]
    },
    {
     "name": "stderr",
     "output_type": "stream",
     "text": [
      "Epoch 131, global step 6600: 'train_loss' was not in top 1\n"
     ]
    },
    {
     "name": "stdout",
     "output_type": "stream",
     "text": [
      "Epoch 132: |          | 50/? [00:05<00:00,  8.64it/s, v_num=56, train_loss=0.236]"
     ]
    },
    {
     "name": "stderr",
     "output_type": "stream",
     "text": [
      "Epoch 132, global step 6650: 'train_loss' was not in top 1\n"
     ]
    },
    {
     "name": "stdout",
     "output_type": "stream",
     "text": [
      "Epoch 133: |          | 50/? [00:06<00:00,  7.44it/s, v_num=56, train_loss=0.174]"
     ]
    },
    {
     "name": "stderr",
     "output_type": "stream",
     "text": [
      "Epoch 133, global step 6700: 'train_loss' reached 0.17379 (best 0.17379), saving model to '/Users/namjihyeon/IE471/lightning_logs/version_56/checkpoints/epoch=133-step=6700.ckpt' as top 1\n"
     ]
    },
    {
     "name": "stdout",
     "output_type": "stream",
     "text": [
      "Epoch 134: |          | 50/? [00:05<00:00,  8.73it/s, v_num=56, train_loss=0.173]"
     ]
    },
    {
     "name": "stderr",
     "output_type": "stream",
     "text": [
      "Epoch 134, global step 6750: 'train_loss' reached 0.17284 (best 0.17284), saving model to '/Users/namjihyeon/IE471/lightning_logs/version_56/checkpoints/epoch=134-step=6750.ckpt' as top 1\n"
     ]
    },
    {
     "name": "stdout",
     "output_type": "stream",
     "text": [
      "Epoch 135: |          | 50/? [00:05<00:00,  8.82it/s, v_num=56, train_loss=0.188]"
     ]
    },
    {
     "name": "stderr",
     "output_type": "stream",
     "text": [
      "Epoch 135, global step 6800: 'train_loss' was not in top 1\n"
     ]
    },
    {
     "name": "stdout",
     "output_type": "stream",
     "text": [
      "Epoch 136: |          | 50/? [00:05<00:00,  9.31it/s, v_num=56, train_loss=0.176]"
     ]
    },
    {
     "name": "stderr",
     "output_type": "stream",
     "text": [
      "Epoch 136, global step 6850: 'train_loss' was not in top 1\n"
     ]
    },
    {
     "name": "stdout",
     "output_type": "stream",
     "text": [
      "Epoch 137: |          | 50/? [00:09<00:00,  5.21it/s, v_num=56, train_loss=0.192]"
     ]
    },
    {
     "name": "stderr",
     "output_type": "stream",
     "text": [
      "Epoch 137, global step 6900: 'train_loss' was not in top 1\n"
     ]
    },
    {
     "name": "stdout",
     "output_type": "stream",
     "text": [
      "Epoch 138: |          | 50/? [00:06<00:00,  7.64it/s, v_num=56, train_loss=0.205]"
     ]
    },
    {
     "name": "stderr",
     "output_type": "stream",
     "text": [
      "Epoch 138, global step 6950: 'train_loss' was not in top 1\n"
     ]
    },
    {
     "name": "stdout",
     "output_type": "stream",
     "text": [
      "Epoch 139: |          | 50/? [00:10<00:00,  4.72it/s, v_num=56, train_loss=0.193]"
     ]
    },
    {
     "name": "stderr",
     "output_type": "stream",
     "text": [
      "Epoch 139, global step 7000: 'train_loss' was not in top 1\n"
     ]
    },
    {
     "name": "stdout",
     "output_type": "stream",
     "text": [
      "Epoch 140: |          | 50/? [00:05<00:00,  8.97it/s, v_num=56, train_loss=0.198]"
     ]
    },
    {
     "name": "stderr",
     "output_type": "stream",
     "text": [
      "Epoch 140, global step 7050: 'train_loss' was not in top 1\n"
     ]
    },
    {
     "name": "stdout",
     "output_type": "stream",
     "text": [
      "Epoch 141: |          | 50/? [00:05<00:00,  9.17it/s, v_num=56, train_loss=0.190]"
     ]
    },
    {
     "name": "stderr",
     "output_type": "stream",
     "text": [
      "Epoch 141, global step 7100: 'train_loss' was not in top 1\n"
     ]
    },
    {
     "name": "stdout",
     "output_type": "stream",
     "text": [
      "Epoch 142: |          | 50/? [00:05<00:00,  9.86it/s, v_num=56, train_loss=0.182]"
     ]
    },
    {
     "name": "stderr",
     "output_type": "stream",
     "text": [
      "Epoch 142, global step 7150: 'train_loss' was not in top 1\n"
     ]
    },
    {
     "name": "stdout",
     "output_type": "stream",
     "text": [
      "Epoch 143: |          | 50/? [00:05<00:00,  9.36it/s, v_num=56, train_loss=0.186]"
     ]
    },
    {
     "name": "stderr",
     "output_type": "stream",
     "text": [
      "Epoch 143, global step 7200: 'train_loss' was not in top 1\n"
     ]
    },
    {
     "name": "stdout",
     "output_type": "stream",
     "text": [
      "Epoch 144: |          | 50/? [00:06<00:00,  8.02it/s, v_num=56, train_loss=0.170]"
     ]
    },
    {
     "name": "stderr",
     "output_type": "stream",
     "text": [
      "Epoch 144, global step 7250: 'train_loss' reached 0.17026 (best 0.17026), saving model to '/Users/namjihyeon/IE471/lightning_logs/version_56/checkpoints/epoch=144-step=7250.ckpt' as top 1\n"
     ]
    },
    {
     "name": "stdout",
     "output_type": "stream",
     "text": [
      "Epoch 145: |          | 50/? [00:06<00:00,  8.29it/s, v_num=56, train_loss=0.189]"
     ]
    },
    {
     "name": "stderr",
     "output_type": "stream",
     "text": [
      "Epoch 145, global step 7300: 'train_loss' was not in top 1\n"
     ]
    },
    {
     "name": "stdout",
     "output_type": "stream",
     "text": [
      "Epoch 146: |          | 50/? [00:05<00:00,  9.48it/s, v_num=56, train_loss=0.167]"
     ]
    },
    {
     "name": "stderr",
     "output_type": "stream",
     "text": [
      "Epoch 146, global step 7350: 'train_loss' reached 0.16713 (best 0.16713), saving model to '/Users/namjihyeon/IE471/lightning_logs/version_56/checkpoints/epoch=146-step=7350.ckpt' as top 1\n"
     ]
    },
    {
     "name": "stdout",
     "output_type": "stream",
     "text": [
      "Epoch 147: |          | 50/? [00:05<00:00,  9.35it/s, v_num=56, train_loss=0.187]"
     ]
    },
    {
     "name": "stderr",
     "output_type": "stream",
     "text": [
      "Epoch 147, global step 7400: 'train_loss' was not in top 1\n"
     ]
    },
    {
     "name": "stdout",
     "output_type": "stream",
     "text": [
      "Epoch 148: |          | 50/? [00:05<00:00,  9.61it/s, v_num=56, train_loss=0.199]"
     ]
    },
    {
     "name": "stderr",
     "output_type": "stream",
     "text": [
      "Epoch 148, global step 7450: 'train_loss' was not in top 1\n"
     ]
    },
    {
     "name": "stdout",
     "output_type": "stream",
     "text": [
      "Epoch 149: |          | 50/? [00:05<00:00,  9.60it/s, v_num=56, train_loss=0.175]"
     ]
    },
    {
     "name": "stderr",
     "output_type": "stream",
     "text": [
      "Epoch 149, global step 7500: 'train_loss' was not in top 1\n"
     ]
    },
    {
     "name": "stdout",
     "output_type": "stream",
     "text": [
      "Epoch 150: |          | 50/? [00:05<00:00,  9.87it/s, v_num=56, train_loss=0.198]"
     ]
    },
    {
     "name": "stderr",
     "output_type": "stream",
     "text": [
      "Epoch 150, global step 7550: 'train_loss' was not in top 1\n"
     ]
    },
    {
     "name": "stdout",
     "output_type": "stream",
     "text": [
      "Epoch 151: |          | 50/? [00:05<00:00,  9.57it/s, v_num=56, train_loss=0.172]"
     ]
    },
    {
     "name": "stderr",
     "output_type": "stream",
     "text": [
      "Epoch 151, global step 7600: 'train_loss' was not in top 1\n"
     ]
    },
    {
     "name": "stdout",
     "output_type": "stream",
     "text": [
      "Epoch 152: |          | 50/? [00:05<00:00,  9.28it/s, v_num=56, train_loss=0.175]"
     ]
    },
    {
     "name": "stderr",
     "output_type": "stream",
     "text": [
      "Epoch 152, global step 7650: 'train_loss' was not in top 1\n"
     ]
    },
    {
     "name": "stdout",
     "output_type": "stream",
     "text": [
      "Epoch 153: |          | 50/? [00:06<00:00,  7.48it/s, v_num=56, train_loss=0.197]"
     ]
    },
    {
     "name": "stderr",
     "output_type": "stream",
     "text": [
      "Epoch 153, global step 7700: 'train_loss' was not in top 1\n"
     ]
    },
    {
     "name": "stdout",
     "output_type": "stream",
     "text": [
      "Epoch 154: |          | 50/? [00:05<00:00,  8.68it/s, v_num=56, train_loss=0.165]"
     ]
    },
    {
     "name": "stderr",
     "output_type": "stream",
     "text": [
      "Epoch 154, global step 7750: 'train_loss' reached 0.16499 (best 0.16499), saving model to '/Users/namjihyeon/IE471/lightning_logs/version_56/checkpoints/epoch=154-step=7750.ckpt' as top 1\n"
     ]
    },
    {
     "name": "stdout",
     "output_type": "stream",
     "text": [
      "Epoch 155: |          | 50/? [00:05<00:00,  8.82it/s, v_num=56, train_loss=0.162]"
     ]
    },
    {
     "name": "stderr",
     "output_type": "stream",
     "text": [
      "Epoch 155, global step 7800: 'train_loss' reached 0.16208 (best 0.16208), saving model to '/Users/namjihyeon/IE471/lightning_logs/version_56/checkpoints/epoch=155-step=7800.ckpt' as top 1\n"
     ]
    },
    {
     "name": "stdout",
     "output_type": "stream",
     "text": [
      "Epoch 156: |          | 50/? [00:05<00:00,  8.35it/s, v_num=56, train_loss=0.162]"
     ]
    },
    {
     "name": "stderr",
     "output_type": "stream",
     "text": [
      "Epoch 156, global step 7850: 'train_loss' reached 0.16152 (best 0.16152), saving model to '/Users/namjihyeon/IE471/lightning_logs/version_56/checkpoints/epoch=156-step=7850.ckpt' as top 1\n"
     ]
    },
    {
     "name": "stdout",
     "output_type": "stream",
     "text": [
      "Epoch 157: |          | 50/? [00:05<00:00,  9.34it/s, v_num=56, train_loss=0.178]"
     ]
    },
    {
     "name": "stderr",
     "output_type": "stream",
     "text": [
      "Epoch 157, global step 7900: 'train_loss' was not in top 1\n"
     ]
    },
    {
     "name": "stdout",
     "output_type": "stream",
     "text": [
      "Epoch 158: |          | 50/? [00:05<00:00,  9.38it/s, v_num=56, train_loss=0.168]"
     ]
    },
    {
     "name": "stderr",
     "output_type": "stream",
     "text": [
      "Epoch 158, global step 7950: 'train_loss' was not in top 1\n"
     ]
    },
    {
     "name": "stdout",
     "output_type": "stream",
     "text": [
      "Epoch 159: |          | 50/? [00:05<00:00,  9.82it/s, v_num=56, train_loss=0.182]"
     ]
    },
    {
     "name": "stderr",
     "output_type": "stream",
     "text": [
      "Epoch 159, global step 8000: 'train_loss' was not in top 1\n"
     ]
    },
    {
     "name": "stdout",
     "output_type": "stream",
     "text": [
      "Epoch 160: |          | 50/? [00:05<00:00,  9.47it/s, v_num=56, train_loss=0.192]"
     ]
    },
    {
     "name": "stderr",
     "output_type": "stream",
     "text": [
      "Epoch 160, global step 8050: 'train_loss' was not in top 1\n"
     ]
    },
    {
     "name": "stdout",
     "output_type": "stream",
     "text": [
      "Epoch 161: |          | 50/? [00:05<00:00,  8.59it/s, v_num=56, train_loss=0.160]"
     ]
    },
    {
     "name": "stderr",
     "output_type": "stream",
     "text": [
      "Epoch 161, global step 8100: 'train_loss' reached 0.16006 (best 0.16006), saving model to '/Users/namjihyeon/IE471/lightning_logs/version_56/checkpoints/epoch=161-step=8100.ckpt' as top 1\n"
     ]
    },
    {
     "name": "stdout",
     "output_type": "stream",
     "text": [
      "Epoch 162: |          | 50/? [00:05<00:00,  8.61it/s, v_num=56, train_loss=0.162]"
     ]
    },
    {
     "name": "stderr",
     "output_type": "stream",
     "text": [
      "Epoch 162, global step 8150: 'train_loss' was not in top 1\n"
     ]
    },
    {
     "name": "stdout",
     "output_type": "stream",
     "text": [
      "Epoch 163: |          | 50/? [00:06<00:00,  8.02it/s, v_num=56, train_loss=0.169]"
     ]
    },
    {
     "name": "stderr",
     "output_type": "stream",
     "text": [
      "Epoch 163, global step 8200: 'train_loss' was not in top 1\n"
     ]
    },
    {
     "name": "stdout",
     "output_type": "stream",
     "text": [
      "Epoch 164: |          | 50/? [00:05<00:00,  8.63it/s, v_num=56, train_loss=0.196]"
     ]
    },
    {
     "name": "stderr",
     "output_type": "stream",
     "text": [
      "Epoch 164, global step 8250: 'train_loss' was not in top 1\n"
     ]
    },
    {
     "name": "stdout",
     "output_type": "stream",
     "text": [
      "Epoch 165: |          | 50/? [00:05<00:00,  9.43it/s, v_num=56, train_loss=0.157]"
     ]
    },
    {
     "name": "stderr",
     "output_type": "stream",
     "text": [
      "Epoch 165, global step 8300: 'train_loss' reached 0.15730 (best 0.15730), saving model to '/Users/namjihyeon/IE471/lightning_logs/version_56/checkpoints/epoch=165-step=8300.ckpt' as top 1\n"
     ]
    },
    {
     "name": "stdout",
     "output_type": "stream",
     "text": [
      "Epoch 166: |          | 50/? [00:05<00:00,  9.44it/s, v_num=56, train_loss=0.160]"
     ]
    },
    {
     "name": "stderr",
     "output_type": "stream",
     "text": [
      "Epoch 166, global step 8350: 'train_loss' was not in top 1\n"
     ]
    },
    {
     "name": "stdout",
     "output_type": "stream",
     "text": [
      "Epoch 167: |          | 50/? [00:05<00:00,  9.53it/s, v_num=56, train_loss=0.191]"
     ]
    },
    {
     "name": "stderr",
     "output_type": "stream",
     "text": [
      "Epoch 167, global step 8400: 'train_loss' was not in top 1\n"
     ]
    },
    {
     "name": "stdout",
     "output_type": "stream",
     "text": [
      "Epoch 168: |          | 50/? [00:07<00:00,  6.75it/s, v_num=56, train_loss=0.174]"
     ]
    },
    {
     "name": "stderr",
     "output_type": "stream",
     "text": [
      "Epoch 168, global step 8450: 'train_loss' was not in top 1\n"
     ]
    },
    {
     "name": "stdout",
     "output_type": "stream",
     "text": [
      "Epoch 169: |          | 50/? [00:06<00:00,  7.56it/s, v_num=56, train_loss=0.156]"
     ]
    },
    {
     "name": "stderr",
     "output_type": "stream",
     "text": [
      "Epoch 169, global step 8500: 'train_loss' reached 0.15613 (best 0.15613), saving model to '/Users/namjihyeon/IE471/lightning_logs/version_56/checkpoints/epoch=169-step=8500.ckpt' as top 1\n"
     ]
    },
    {
     "name": "stdout",
     "output_type": "stream",
     "text": [
      "Epoch 170: |          | 50/? [00:05<00:00,  9.62it/s, v_num=56, train_loss=0.183]"
     ]
    },
    {
     "name": "stderr",
     "output_type": "stream",
     "text": [
      "Epoch 170, global step 8550: 'train_loss' was not in top 1\n"
     ]
    },
    {
     "name": "stdout",
     "output_type": "stream",
     "text": [
      "Epoch 171: |          | 50/? [00:06<00:00,  7.74it/s, v_num=56, train_loss=0.154]"
     ]
    },
    {
     "name": "stderr",
     "output_type": "stream",
     "text": [
      "Epoch 171, global step 8600: 'train_loss' reached 0.15358 (best 0.15358), saving model to '/Users/namjihyeon/IE471/lightning_logs/version_56/checkpoints/epoch=171-step=8600.ckpt' as top 1\n"
     ]
    },
    {
     "name": "stdout",
     "output_type": "stream",
     "text": [
      "Epoch 172: |          | 50/? [00:05<00:00,  8.55it/s, v_num=56, train_loss=0.169]"
     ]
    },
    {
     "name": "stderr",
     "output_type": "stream",
     "text": [
      "Epoch 172, global step 8650: 'train_loss' was not in top 1\n"
     ]
    },
    {
     "name": "stdout",
     "output_type": "stream",
     "text": [
      "Epoch 173: |          | 50/? [00:06<00:00,  8.08it/s, v_num=56, train_loss=0.187]"
     ]
    },
    {
     "name": "stderr",
     "output_type": "stream",
     "text": [
      "Epoch 173, global step 8700: 'train_loss' was not in top 1\n"
     ]
    },
    {
     "name": "stdout",
     "output_type": "stream",
     "text": [
      "Epoch 174: |          | 50/? [00:05<00:00,  9.30it/s, v_num=56, train_loss=0.157]"
     ]
    },
    {
     "name": "stderr",
     "output_type": "stream",
     "text": [
      "Epoch 174, global step 8750: 'train_loss' was not in top 1\n"
     ]
    },
    {
     "name": "stdout",
     "output_type": "stream",
     "text": [
      "Epoch 175: |          | 50/? [00:05<00:00,  9.43it/s, v_num=56, train_loss=0.171]"
     ]
    },
    {
     "name": "stderr",
     "output_type": "stream",
     "text": [
      "Epoch 175, global step 8800: 'train_loss' was not in top 1\n"
     ]
    },
    {
     "name": "stdout",
     "output_type": "stream",
     "text": [
      "Epoch 176: |          | 50/? [00:05<00:00,  9.41it/s, v_num=56, train_loss=0.169]"
     ]
    },
    {
     "name": "stderr",
     "output_type": "stream",
     "text": [
      "Epoch 176, global step 8850: 'train_loss' was not in top 1\n"
     ]
    },
    {
     "name": "stdout",
     "output_type": "stream",
     "text": [
      "Epoch 177: |          | 50/? [00:05<00:00,  8.91it/s, v_num=56, train_loss=0.150]"
     ]
    },
    {
     "name": "stderr",
     "output_type": "stream",
     "text": [
      "Epoch 177, global step 8900: 'train_loss' reached 0.15000 (best 0.15000), saving model to '/Users/namjihyeon/IE471/lightning_logs/version_56/checkpoints/epoch=177-step=8900.ckpt' as top 1\n"
     ]
    },
    {
     "name": "stdout",
     "output_type": "stream",
     "text": [
      "Epoch 178: |          | 50/? [00:05<00:00,  8.79it/s, v_num=56, train_loss=0.179]"
     ]
    },
    {
     "name": "stderr",
     "output_type": "stream",
     "text": [
      "Epoch 178, global step 8950: 'train_loss' was not in top 1\n"
     ]
    },
    {
     "name": "stdout",
     "output_type": "stream",
     "text": [
      "Epoch 179: |          | 50/? [00:05<00:00,  9.42it/s, v_num=56, train_loss=0.178]"
     ]
    },
    {
     "name": "stderr",
     "output_type": "stream",
     "text": [
      "Epoch 179, global step 9000: 'train_loss' was not in top 1\n"
     ]
    },
    {
     "name": "stdout",
     "output_type": "stream",
     "text": [
      "Epoch 180: |          | 50/? [00:05<00:00,  8.40it/s, v_num=56, train_loss=0.152]"
     ]
    },
    {
     "name": "stderr",
     "output_type": "stream",
     "text": [
      "Epoch 180, global step 9050: 'train_loss' was not in top 1\n"
     ]
    },
    {
     "name": "stdout",
     "output_type": "stream",
     "text": [
      "Epoch 181: |          | 50/? [00:05<00:00,  9.66it/s, v_num=56, train_loss=0.183]"
     ]
    },
    {
     "name": "stderr",
     "output_type": "stream",
     "text": [
      "Epoch 181, global step 9100: 'train_loss' was not in top 1\n"
     ]
    },
    {
     "name": "stdout",
     "output_type": "stream",
     "text": [
      "Epoch 182: |          | 50/? [00:05<00:00,  9.31it/s, v_num=56, train_loss=0.150]"
     ]
    },
    {
     "name": "stderr",
     "output_type": "stream",
     "text": [
      "Epoch 182, global step 9150: 'train_loss' reached 0.14976 (best 0.14976), saving model to '/Users/namjihyeon/IE471/lightning_logs/version_56/checkpoints/epoch=182-step=9150.ckpt' as top 1\n"
     ]
    },
    {
     "name": "stdout",
     "output_type": "stream",
     "text": [
      "Epoch 183: |          | 50/? [00:05<00:00,  9.85it/s, v_num=56, train_loss=0.176]"
     ]
    },
    {
     "name": "stderr",
     "output_type": "stream",
     "text": [
      "Epoch 183, global step 9200: 'train_loss' was not in top 1\n"
     ]
    },
    {
     "name": "stdout",
     "output_type": "stream",
     "text": [
      "Epoch 184: |          | 50/? [00:05<00:00,  9.47it/s, v_num=56, train_loss=0.178]"
     ]
    },
    {
     "name": "stderr",
     "output_type": "stream",
     "text": [
      "Epoch 184, global step 9250: 'train_loss' was not in top 1\n"
     ]
    },
    {
     "name": "stdout",
     "output_type": "stream",
     "text": [
      "Epoch 185: |          | 50/? [00:04<00:00, 10.10it/s, v_num=56, train_loss=0.164]"
     ]
    },
    {
     "name": "stderr",
     "output_type": "stream",
     "text": [
      "Epoch 185, global step 9300: 'train_loss' was not in top 1\n"
     ]
    },
    {
     "name": "stdout",
     "output_type": "stream",
     "text": [
      "Epoch 186: |          | 50/? [00:05<00:00,  9.41it/s, v_num=56, train_loss=0.146]"
     ]
    },
    {
     "name": "stderr",
     "output_type": "stream",
     "text": [
      "Epoch 186, global step 9350: 'train_loss' reached 0.14603 (best 0.14603), saving model to '/Users/namjihyeon/IE471/lightning_logs/version_56/checkpoints/epoch=186-step=9350.ckpt' as top 1\n"
     ]
    },
    {
     "name": "stdout",
     "output_type": "stream",
     "text": [
      "Epoch 187: |          | 50/? [00:05<00:00,  9.29it/s, v_num=56, train_loss=0.160]"
     ]
    },
    {
     "name": "stderr",
     "output_type": "stream",
     "text": [
      "Epoch 187, global step 9400: 'train_loss' was not in top 1\n"
     ]
    },
    {
     "name": "stdout",
     "output_type": "stream",
     "text": [
      "Epoch 188: |          | 50/? [00:05<00:00,  8.95it/s, v_num=56, train_loss=0.146]"
     ]
    },
    {
     "name": "stderr",
     "output_type": "stream",
     "text": [
      "Epoch 188, global step 9450: 'train_loss' reached 0.14593 (best 0.14593), saving model to '/Users/namjihyeon/IE471/lightning_logs/version_56/checkpoints/epoch=188-step=9450.ckpt' as top 1\n"
     ]
    },
    {
     "name": "stdout",
     "output_type": "stream",
     "text": [
      "Epoch 189: |          | 50/? [00:06<00:00,  8.30it/s, v_num=56, train_loss=0.148]"
     ]
    },
    {
     "name": "stderr",
     "output_type": "stream",
     "text": [
      "Epoch 189, global step 9500: 'train_loss' was not in top 1\n"
     ]
    },
    {
     "name": "stdout",
     "output_type": "stream",
     "text": [
      "Epoch 190: |          | 50/? [00:05<00:00,  9.16it/s, v_num=56, train_loss=0.180]"
     ]
    },
    {
     "name": "stderr",
     "output_type": "stream",
     "text": [
      "Epoch 190, global step 9550: 'train_loss' was not in top 1\n"
     ]
    },
    {
     "name": "stdout",
     "output_type": "stream",
     "text": [
      "Epoch 191: |          | 50/? [00:05<00:00,  8.74it/s, v_num=56, train_loss=0.144]"
     ]
    },
    {
     "name": "stderr",
     "output_type": "stream",
     "text": [
      "Epoch 191, global step 9600: 'train_loss' reached 0.14383 (best 0.14383), saving model to '/Users/namjihyeon/IE471/lightning_logs/version_56/checkpoints/epoch=191-step=9600.ckpt' as top 1\n"
     ]
    },
    {
     "name": "stdout",
     "output_type": "stream",
     "text": [
      "Epoch 192: |          | 50/? [00:05<00:00,  8.58it/s, v_num=56, train_loss=0.166]"
     ]
    },
    {
     "name": "stderr",
     "output_type": "stream",
     "text": [
      "Epoch 192, global step 9650: 'train_loss' was not in top 1\n"
     ]
    },
    {
     "name": "stdout",
     "output_type": "stream",
     "text": [
      "Epoch 193: |          | 50/? [00:05<00:00,  8.90it/s, v_num=56, train_loss=0.149]"
     ]
    },
    {
     "name": "stderr",
     "output_type": "stream",
     "text": [
      "Epoch 193, global step 9700: 'train_loss' was not in top 1\n"
     ]
    },
    {
     "name": "stdout",
     "output_type": "stream",
     "text": [
      "Epoch 194: |          | 50/? [00:05<00:00,  8.72it/s, v_num=56, train_loss=0.181]"
     ]
    },
    {
     "name": "stderr",
     "output_type": "stream",
     "text": [
      "Epoch 194, global step 9750: 'train_loss' was not in top 1\n"
     ]
    },
    {
     "name": "stdout",
     "output_type": "stream",
     "text": [
      "Epoch 195: |          | 50/? [00:05<00:00,  8.73it/s, v_num=56, train_loss=0.150]"
     ]
    },
    {
     "name": "stderr",
     "output_type": "stream",
     "text": [
      "Epoch 195, global step 9800: 'train_loss' was not in top 1\n"
     ]
    },
    {
     "name": "stdout",
     "output_type": "stream",
     "text": [
      "Epoch 196: |          | 50/? [00:05<00:00,  8.77it/s, v_num=56, train_loss=0.158]"
     ]
    },
    {
     "name": "stderr",
     "output_type": "stream",
     "text": [
      "Epoch 196, global step 9850: 'train_loss' was not in top 1\n"
     ]
    },
    {
     "name": "stdout",
     "output_type": "stream",
     "text": [
      "Epoch 197: |          | 50/? [00:05<00:00,  8.73it/s, v_num=56, train_loss=0.160]"
     ]
    },
    {
     "name": "stderr",
     "output_type": "stream",
     "text": [
      "Epoch 197, global step 9900: 'train_loss' was not in top 1\n"
     ]
    },
    {
     "name": "stdout",
     "output_type": "stream",
     "text": [
      "Epoch 198: |          | 50/? [00:05<00:00,  9.53it/s, v_num=56, train_loss=0.157]"
     ]
    },
    {
     "name": "stderr",
     "output_type": "stream",
     "text": [
      "Epoch 198, global step 9950: 'train_loss' was not in top 1\n"
     ]
    },
    {
     "name": "stdout",
     "output_type": "stream",
     "text": [
      "Epoch 199: |          | 50/? [00:05<00:00,  8.65it/s, v_num=56, train_loss=0.174]"
     ]
    },
    {
     "name": "stderr",
     "output_type": "stream",
     "text": [
      "Epoch 199, global step 10000: 'train_loss' was not in top 1\n",
      "`Trainer.fit` stopped: `max_epochs=200` reached.\n"
     ]
    },
    {
     "name": "stdout",
     "output_type": "stream",
     "text": [
      "Epoch 199: |          | 50/? [00:05<00:00,  8.63it/s, v_num=56, train_loss=0.174]\n"
     ]
    }
   ],
   "source": [
    "# Estimator 는 Predic\n",
    "# arModel = DeepAREstimator(\n",
    "#     prediction_length=20, freq=\"D\", trainer_kwargs={\"max_epochs\": 200}\n",
    "# ).train(training_data)\n",
    "\n",
    "\n",
    "tftModel = TemporalFusionTransformerEstimator(\n",
    "    prediction_length=20, freq=\"D\", trainer_kwargs={\"max_epochs\": 200}\n",
    ").train(training_data)\n",
    "\n",
    "\n"
   ]
  },
  {
   "cell_type": "code",
   "execution_count": 32,
   "metadata": {},
   "outputs": [
    {
     "name": "stdout",
     "output_type": "stream",
     "text": [
      "10\n"
     ]
    },
    {
     "ename": "AttributeError",
     "evalue": "'TrainingDataset' object has no attribute 'loc'",
     "output_type": "error",
     "traceback": [
      "\u001b[0;31m---------------------------------------------------------------------------\u001b[0m",
      "\u001b[0;31mAttributeError\u001b[0m                            Traceback (most recent call last)",
      "Cell \u001b[0;32mIn[32], line 8\u001b[0m\n\u001b[1;32m      6\u001b[0m \u001b[38;5;66;03m# Plot predictions\u001b[39;00m\n\u001b[1;32m      7\u001b[0m plt\u001b[38;5;241m.\u001b[39mfigure(figsize\u001b[38;5;241m=\u001b[39m(\u001b[38;5;241m20\u001b[39m,\u001b[38;5;241m15\u001b[39m))\n\u001b[0;32m----> 8\u001b[0m plotting_df \u001b[38;5;241m=\u001b[39m \u001b[43mtraining_data\u001b[49m\u001b[38;5;241;43m.\u001b[39;49m\u001b[43mloc\u001b[49m[:, [TARGET_COLUMN]]\n\u001b[1;32m      9\u001b[0m plotting_df\u001b[38;5;241m.\u001b[39mplot(color\u001b[38;5;241m=\u001b[39m\u001b[38;5;124m\"\u001b[39m\u001b[38;5;124mblack\u001b[39m\u001b[38;5;124m\"\u001b[39m)\n\u001b[1;32m     10\u001b[0m \u001b[38;5;66;03m# plt.plot(df, color=\"black\")\u001b[39;00m\n",
      "\u001b[0;31mAttributeError\u001b[0m: 'TrainingDataset' object has no attribute 'loc'"
     ]
    },
    {
     "data": {
      "text/plain": [
       "<Figure size 2000x1500 with 0 Axes>"
      ]
     },
     "metadata": {},
     "output_type": "display_data"
    }
   ],
   "source": [
    "test_data = test_gen.generate_instances(prediction_length=20, windows=10)\n",
    "\n",
    "\n",
    "forecasts = list(tftModel.predict(test_data.input))\n",
    "print(len(forecasts))\n",
    "# Plot predictions\n",
    "plt.figure(figsize=(20,15))\n",
    "plotting_df = df.loc[:, [TARGET_COLUMN]]\n",
    "plotting_df.plot(color=\"black\")\n",
    "# plt.plot(df, color=\"black\")\n",
    "for forecast in forecasts:\n",
    "  forecast.plot()\n",
    "\n",
    "plt.legend([\"True values\"], loc=\"upper left\", fontsize=\"small\")\n",
    "plt.show()\n"
   ]
  },
  {
   "cell_type": "code",
   "execution_count": 29,
   "metadata": {},
   "outputs": [
    {
     "ename": "NameError",
     "evalue": "name 'train_df' is not defined",
     "output_type": "error",
     "traceback": [
      "\u001b[0;31m---------------------------------------------------------------------------\u001b[0m",
      "\u001b[0;31mNameError\u001b[0m                                 Traceback (most recent call last)",
      "Cell \u001b[0;32mIn[29], line 3\u001b[0m\n\u001b[1;32m      1\u001b[0m \u001b[38;5;66;03m# Plot predictions\u001b[39;00m\n\u001b[1;32m      2\u001b[0m plt\u001b[38;5;241m.\u001b[39mfigure(figsize\u001b[38;5;241m=\u001b[39m(\u001b[38;5;241m20\u001b[39m,\u001b[38;5;241m15\u001b[39m))\n\u001b[0;32m----> 3\u001b[0m plotting_df \u001b[38;5;241m=\u001b[39m \u001b[43mtrain_df\u001b[49m\u001b[38;5;241m.\u001b[39mloc[:, [TARGET_COLUMN]]\n\u001b[1;32m      4\u001b[0m plotting_df\u001b[38;5;241m.\u001b[39mplot(color\u001b[38;5;241m=\u001b[39m\u001b[38;5;124m\"\u001b[39m\u001b[38;5;124mblack\u001b[39m\u001b[38;5;124m\"\u001b[39m)\n\u001b[1;32m      5\u001b[0m \u001b[38;5;66;03m# plt.plot(df, color=\"black\")\u001b[39;00m\n",
      "\u001b[0;31mNameError\u001b[0m: name 'train_df' is not defined"
     ]
    },
    {
     "data": {
      "text/plain": [
       "<Figure size 2000x1500 with 0 Axes>"
      ]
     },
     "metadata": {},
     "output_type": "display_data"
    }
   ],
   "source": [
    "# Plot predictions\n",
    "plt.figure(figsize=(20,15))\n",
    "plotting_df = df.loc[:, [TARGET_COLUMN]]\n",
    "plotting_df.plot(color=\"black\")\n",
    "# plt.plot(df, color=\"black\")\n",
    "for forecast in forecasts:\n",
    "  forecast.plot()\n",
    "\n",
    "plt.legend([\"True values\"], loc=\"upper left\", fontsize=\"small\")\n",
    "plt.show()"
   ]
  },
  {
   "cell_type": "code",
   "execution_count": null,
   "metadata": {},
   "outputs": [],
   "source": []
  },
  {
   "cell_type": "code",
   "execution_count": null,
   "metadata": {},
   "outputs": [
    {
     "data": {
      "image/png": "[encoded data removed]",
      "text/plain": [
       "<Figure size 640x480 with 1 Axes>"
      ]
     },
     "metadata": {},
     "output_type": "display_data"
    }
   ],
   "source": [
    "# plt.plot(df, color=\"black\")\n",
    "\n",
    "for forecast in forecasts:\n",
    "  forecast.plot()\n",
    "plt.legend([\"True values\"], loc=\"upper left\", fontsize=\"small\")\n",
    "plt.show()"
   ]
  }
 ],
 "metadata": {
  "kernelspec": {
   "display_name": "Python 3",
   "language": "python",
   "name": "python3"
  },
  "language_info": {
   "codemirror_mode": {
    "name": "ipython",
    "version": 3
   },
   "file_extension": ".py",
   "mimetype": "text/x-python",
   "name": "python",
   "nbconvert_exporter": "python",
   "pygments_lexer": "ipython3",
   "version": "3.8.19"
  }
 },
 "nbformat": 4,
 "nbformat_minor": 2
}
